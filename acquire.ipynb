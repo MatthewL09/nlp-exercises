{
 "cells": [
  {
   "cell_type": "code",
   "execution_count": 54,
   "id": "6e6d56cc-ea42-466e-890f-5b854a8f60b8",
   "metadata": {},
   "outputs": [],
   "source": [
    "import pandas as pd\n",
    "import requests\n",
    "from requests import get\n",
    "from bs4 import BeautifulSoup"
   ]
  },
  {
   "cell_type": "code",
   "execution_count": 3,
   "id": "fef54d75-6e71-427a-a057-6c200d1b6808",
   "metadata": {},
   "outputs": [
    {
     "data": {
      "text/plain": [
       "<Response [200]>"
      ]
     },
     "execution_count": 3,
     "metadata": {},
     "output_type": "execute_result"
    }
   ],
   "source": [
    "url = 'https://web-scraping-demo.zgulde.net/people'\n",
    "response = get(url)\n",
    "response"
   ]
  },
  {
   "cell_type": "code",
   "execution_count": 6,
   "id": "69739c80-8595-433b-b57a-bd22cf51d5c2",
   "metadata": {},
   "outputs": [
    {
     "name": "stdout",
     "output_type": "stream",
     "text": [
      "<!DOCTYPE html>\n",
      "<html lang=\"en\">\n",
      "<head>\n",
      "    <meta charset=\"UTF-8\">\n",
      "    <meta http-equiv=\"X-UA-Compatible\" content=\"IE=edge\">\n",
      "    <meta name=\"viewport\" content=\"width=device-width, initial-scale=1.0\">\n",
      "    <title>Example People Page</title>\n",
      "    <link href=\"https://unpkg.com/tailwindcss@^2/dist/tailwind.min.css\" rel=\"stylesheet\" />\n",
      "    <link rel=\"stylesheet\" href=\"https://cdn.jsdelivr.net/npm/bootstr\n"
     ]
    }
   ],
   "source": [
    "print(response.text[:400])"
   ]
  },
  {
   "cell_type": "code",
   "execution_count": 25,
   "id": "ccbd9fc1-12bd-4341-ad38-732bb652b041",
   "metadata": {},
   "outputs": [],
   "source": [
    "soup = BeautifulSoup(response.text, 'html.parser')"
   ]
  },
  {
   "cell_type": "code",
   "execution_count": 26,
   "id": "d12acc1e-ab6b-4abb-927d-054b0e961831",
   "metadata": {},
   "outputs": [
    {
     "data": {
      "text/plain": [
       "'div.grid.grid-cols-2'"
      ]
     },
     "execution_count": 26,
     "metadata": {},
     "output_type": "execute_result"
    }
   ],
   "source": [
    "'div.grid.grid-cols-2'\n"
   ]
  },
  {
   "cell_type": "code",
   "execution_count": 47,
   "id": "551293d0-6741-4ae7-8154-02d7d4e9c411",
   "metadata": {},
   "outputs": [],
   "source": [
    "peoples = soup.select('div.person')"
   ]
  },
  {
   "cell_type": "code",
   "execution_count": 48,
   "id": "a72658f8-f216-43ba-bfec-cf7c29cae9b8",
   "metadata": {},
   "outputs": [
    {
     "data": {
      "text/plain": [
       "<div class=\"person border rounded px-3 py-5 grid grid-cols-2 gap-x-3 bg-purple-50 hover:shadow-lg transition duration-500\">\n",
       "<h2 class=\"text-2xl text-purple-800 name col-span-full border-b\">Dawn Aguilar</h2>\n",
       "<p class=\"quote col-span-full px-5 py-5 text-center text-gray-500\">\n",
       "            \"Quality-focused next generation flexibility\"\n",
       "        </p>\n",
       "<div class=\"grid grid-cols-9\">\n",
       "<i class=\"bi bi-envelope-fill text-purple-800\"></i>\n",
       "<p class=\"email col-span-8\">lancemills@taylor-johnson.com</p>\n",
       "<i class=\"bi bi-telephone-fill text-purple-800\"></i>\n",
       "<p class=\"phone col-span-8\">001-524-100-8054x73422</p>\n",
       "</div>\n",
       "<div class=\"address grid grid-cols-9\">\n",
       "<i class=\"bi bi-geo-fill text-purple-800\"></i>\n",
       "<p class=\"col-span-8\">\n",
       "                3909 Joshua Divide Suite 834 <br/>\n",
       "                West Peggyview, TN 99055\n",
       "            </p>\n",
       "</div>\n",
       "</div>"
      ]
     },
     "execution_count": 48,
     "metadata": {},
     "output_type": "execute_result"
    }
   ],
   "source": [
    "people = peoples[0]\n",
    "people"
   ]
  },
  {
   "cell_type": "code",
   "execution_count": 49,
   "id": "0a3ea6bb-f1c2-427e-b496-b555e4328739",
   "metadata": {},
   "outputs": [],
   "source": [
    "def parse_personal_info(people):\n",
    "    output = {}\n",
    "    output['person'] = people.find('h2').text\n",
    "    # using .strip() helps to remove any white space leading or trailing\n",
    "    output['quote'], output['email'], output['phone'], output['address'] = (p.text.strip for p in people.find_all('p'))\n",
    "    return output"
   ]
  },
  {
   "cell_type": "code",
   "execution_count": 50,
   "id": "34a129ed-354c-4b3c-88ea-9d675f705d98",
   "metadata": {},
   "outputs": [
    {
     "data": {
      "text/html": [
       "<div>\n",
       "<style scoped>\n",
       "    .dataframe tbody tr th:only-of-type {\n",
       "        vertical-align: middle;\n",
       "    }\n",
       "\n",
       "    .dataframe tbody tr th {\n",
       "        vertical-align: top;\n",
       "    }\n",
       "\n",
       "    .dataframe thead th {\n",
       "        text-align: right;\n",
       "    }\n",
       "</style>\n",
       "<table border=\"1\" class=\"dataframe\">\n",
       "  <thead>\n",
       "    <tr style=\"text-align: right;\">\n",
       "      <th></th>\n",
       "      <th>person</th>\n",
       "      <th>quote</th>\n",
       "      <th>email</th>\n",
       "      <th>phone</th>\n",
       "      <th>address</th>\n",
       "    </tr>\n",
       "  </thead>\n",
       "  <tbody>\n",
       "    <tr>\n",
       "      <th>0</th>\n",
       "      <td>Dawn Aguilar</td>\n",
       "      <td>\\n            \"Quality-focused next generation...</td>\n",
       "      <td>lancemills@taylor-johnson.com</td>\n",
       "      <td>001-524-100-8054x73422</td>\n",
       "      <td>\\n                3909 Joshua Divide Suite 834...</td>\n",
       "    </tr>\n",
       "    <tr>\n",
       "      <th>1</th>\n",
       "      <td>Amanda Lawson</td>\n",
       "      <td>\\n            \"Reduced 24/7 protocol\"\\n</td>\n",
       "      <td>tammy94@gmail.com</td>\n",
       "      <td>5983633899</td>\n",
       "      <td>\\n                56261 Wise Brooks Apt. 689 \\...</td>\n",
       "    </tr>\n",
       "    <tr>\n",
       "      <th>2</th>\n",
       "      <td>Shawn Benson</td>\n",
       "      <td>\\n            \"Optional optimal circuit\"\\n    ...</td>\n",
       "      <td>brent51@turner-ewing.com</td>\n",
       "      <td>222.813.7512x42336</td>\n",
       "      <td>\\n                9734 Green Neck Suite 712 \\n...</td>\n",
       "    </tr>\n",
       "    <tr>\n",
       "      <th>3</th>\n",
       "      <td>James Harris</td>\n",
       "      <td>\\n            \"Profound object-oriented knowle...</td>\n",
       "      <td>greynolds@russell.com</td>\n",
       "      <td>180.903.7848x1935</td>\n",
       "      <td>\\n                7614 Becker Drive Suite 815 ...</td>\n",
       "    </tr>\n",
       "    <tr>\n",
       "      <th>4</th>\n",
       "      <td>Stephanie Robbins</td>\n",
       "      <td>\\n            \"Synchronized intermediate extra...</td>\n",
       "      <td>timothy32@esparza-foster.info</td>\n",
       "      <td>(239)808-3094</td>\n",
       "      <td>\\n                935 Gregory Plains Suite 462...</td>\n",
       "    </tr>\n",
       "    <tr>\n",
       "      <th>5</th>\n",
       "      <td>Shannon Jacobs</td>\n",
       "      <td>\\n            \"Cross-group user-facing support...</td>\n",
       "      <td>ybailey@hotmail.com</td>\n",
       "      <td>001-301-194-1808x58943</td>\n",
       "      <td>\\n                2403 Noble Highway Apt. 235 ...</td>\n",
       "    </tr>\n",
       "    <tr>\n",
       "      <th>6</th>\n",
       "      <td>Thomas Huffman</td>\n",
       "      <td>\\n            \"Optional interactive concept\"\\n...</td>\n",
       "      <td>jillian83@lee-contreras.biz</td>\n",
       "      <td>(416)612-1626</td>\n",
       "      <td>\\n                32373 Kyle Vista Apt. 249 \\n...</td>\n",
       "    </tr>\n",
       "    <tr>\n",
       "      <th>7</th>\n",
       "      <td>Ryan Bennett</td>\n",
       "      <td>\\n            \"Function-based contextually-bas...</td>\n",
       "      <td>eperez@oliver.org</td>\n",
       "      <td>879-792-3626x5271</td>\n",
       "      <td>\\n                7959 Austin Plaza Apt. 500 \\...</td>\n",
       "    </tr>\n",
       "    <tr>\n",
       "      <th>8</th>\n",
       "      <td>Donna Sloan</td>\n",
       "      <td>\\n            \"Exclusive bandwidth-monitored o...</td>\n",
       "      <td>joshua52@yahoo.com</td>\n",
       "      <td>(664)096-6373x88123</td>\n",
       "      <td>\\n                095 Campbell Cliff \\n       ...</td>\n",
       "    </tr>\n",
       "    <tr>\n",
       "      <th>9</th>\n",
       "      <td>Brendan Weeks</td>\n",
       "      <td>\\n            \"Extended optimal moderator\"\\n  ...</td>\n",
       "      <td>johnwang@patterson.biz</td>\n",
       "      <td>001-006-585-4627</td>\n",
       "      <td>\\n                8688 Harrison Circle Apt. 05...</td>\n",
       "    </tr>\n",
       "  </tbody>\n",
       "</table>\n",
       "</div>"
      ],
      "text/plain": [
       "              person                                              quote  \\\n",
       "0       Dawn Aguilar  \\n            \"Quality-focused next generation...   \n",
       "1      Amanda Lawson    \\n            \"Reduced 24/7 protocol\"\\n           \n",
       "2       Shawn Benson  \\n            \"Optional optimal circuit\"\\n    ...   \n",
       "3       James Harris  \\n            \"Profound object-oriented knowle...   \n",
       "4  Stephanie Robbins  \\n            \"Synchronized intermediate extra...   \n",
       "5     Shannon Jacobs  \\n            \"Cross-group user-facing support...   \n",
       "6     Thomas Huffman  \\n            \"Optional interactive concept\"\\n...   \n",
       "7       Ryan Bennett  \\n            \"Function-based contextually-bas...   \n",
       "8        Donna Sloan  \\n            \"Exclusive bandwidth-monitored o...   \n",
       "9      Brendan Weeks  \\n            \"Extended optimal moderator\"\\n  ...   \n",
       "\n",
       "                           email                   phone  \\\n",
       "0  lancemills@taylor-johnson.com  001-524-100-8054x73422   \n",
       "1              tammy94@gmail.com              5983633899   \n",
       "2       brent51@turner-ewing.com      222.813.7512x42336   \n",
       "3          greynolds@russell.com       180.903.7848x1935   \n",
       "4  timothy32@esparza-foster.info           (239)808-3094   \n",
       "5            ybailey@hotmail.com  001-301-194-1808x58943   \n",
       "6    jillian83@lee-contreras.biz           (416)612-1626   \n",
       "7              eperez@oliver.org       879-792-3626x5271   \n",
       "8             joshua52@yahoo.com     (664)096-6373x88123   \n",
       "9         johnwang@patterson.biz        001-006-585-4627   \n",
       "\n",
       "                                             address  \n",
       "0  \\n                3909 Joshua Divide Suite 834...  \n",
       "1  \\n                56261 Wise Brooks Apt. 689 \\...  \n",
       "2  \\n                9734 Green Neck Suite 712 \\n...  \n",
       "3  \\n                7614 Becker Drive Suite 815 ...  \n",
       "4  \\n                935 Gregory Plains Suite 462...  \n",
       "5  \\n                2403 Noble Highway Apt. 235 ...  \n",
       "6  \\n                32373 Kyle Vista Apt. 249 \\n...  \n",
       "7  \\n                7959 Austin Plaza Apt. 500 \\...  \n",
       "8  \\n                095 Campbell Cliff \\n       ...  \n",
       "9  \\n                8688 Harrison Circle Apt. 05...  "
      ]
     },
     "execution_count": 50,
     "metadata": {},
     "output_type": "execute_result"
    }
   ],
   "source": [
    "pd.DataFrame([parse_personal_info(people) for people in peoples])"
   ]
  },
  {
   "cell_type": "code",
   "execution_count": 51,
   "id": "5543a2ab-72c7-42d5-adaf-83a5c2b6f80d",
   "metadata": {},
   "outputs": [
    {
     "ename": "TypeError",
     "evalue": "'NoneType' object is not callable",
     "output_type": "error",
     "traceback": [
      "\u001b[0;31m---------------------------------------------------------------------------\u001b[0m",
      "\u001b[0;31mTypeError\u001b[0m                                 Traceback (most recent call last)",
      "\u001b[0;32m/var/folders/dy/6l70n7994h596yst0fdjbly40000gn/T/ipykernel_22637/77943515.py\u001b[0m in \u001b[0;36m<module>\u001b[0;34m\u001b[0m\n\u001b[1;32m      3\u001b[0m \u001b[0moutput\u001b[0m \u001b[0;34m=\u001b[0m \u001b[0;34m{\u001b[0m\u001b[0;34m}\u001b[0m\u001b[0;34m\u001b[0m\u001b[0;34m\u001b[0m\u001b[0m\n\u001b[1;32m      4\u001b[0m \u001b[0moutput\u001b[0m\u001b[0;34m[\u001b[0m\u001b[0;34m'person'\u001b[0m\u001b[0;34m]\u001b[0m \u001b[0;34m=\u001b[0m \u001b[0mpeople\u001b[0m\u001b[0;34m.\u001b[0m\u001b[0mfind\u001b[0m\u001b[0;34m(\u001b[0m\u001b[0;34m'h2'\u001b[0m\u001b[0;34m)\u001b[0m\u001b[0;34m.\u001b[0m\u001b[0mtext\u001b[0m\u001b[0;34m\u001b[0m\u001b[0;34m\u001b[0m\u001b[0m\n\u001b[0;32m----> 5\u001b[0;31m \u001b[0moutput\u001b[0m\u001b[0;34m[\u001b[0m\u001b[0;34m'quote'\u001b[0m\u001b[0;34m]\u001b[0m \u001b[0;34m=\u001b[0m \u001b[0mperson\u001b[0m\u001b[0;34m.\u001b[0m\u001b[0mselect\u001b[0m\u001b[0;34m(\u001b[0m\u001b[0;34m'.quote'\u001b[0m\u001b[0;34m)\u001b[0m\u001b[0;34m[\u001b[0m\u001b[0;36m0\u001b[0m\u001b[0;34m]\u001b[0m\u001b[0;34m.\u001b[0m\u001b[0mstrip\u001b[0m\u001b[0;34m(\u001b[0m\u001b[0;34m)\u001b[0m\u001b[0;34m\u001b[0m\u001b[0;34m\u001b[0m\u001b[0m\n\u001b[0m\u001b[1;32m      6\u001b[0m \u001b[0moutput\u001b[0m\u001b[0;34m[\u001b[0m\u001b[0;34m'email'\u001b[0m\u001b[0;34m]\u001b[0m \u001b[0;34m=\u001b[0m \u001b[0mperson\u001b[0m\u001b[0;34m.\u001b[0m\u001b[0mselect_one\u001b[0m\u001b[0;34m(\u001b[0m\u001b[0;34m'.email'\u001b[0m\u001b[0;34m)\u001b[0m\u001b[0;34m.\u001b[0m\u001b[0mtext\u001b[0m\u001b[0;34m\u001b[0m\u001b[0;34m\u001b[0m\u001b[0m\n\u001b[1;32m      7\u001b[0m \u001b[0moutput\u001b[0m\u001b[0;34m[\u001b[0m\u001b[0;34m'phone'\u001b[0m\u001b[0;34m]\u001b[0m \u001b[0;34m=\u001b[0m \u001b[0mperson\u001b[0m\u001b[0;34m.\u001b[0m\u001b[0mselect_one\u001b[0m\u001b[0;34m(\u001b[0m\u001b[0;34m'.phone'\u001b[0m\u001b[0;34m)\u001b[0m\u001b[0;34m.\u001b[0m\u001b[0mtext\u001b[0m\u001b[0;34m\u001b[0m\u001b[0;34m\u001b[0m\u001b[0m\n",
      "\u001b[0;31mTypeError\u001b[0m: 'NoneType' object is not callable"
     ]
    }
   ],
   "source": [
    "# another way to get this done\n",
    "person = peoples[0]\n",
    "output = {}\n",
    "output['person'] = people.find('h2').text\n",
    "output['quote'] = person.select('.quote')[0].strip()\n",
    "output['email'] = person.select_one('.email').text\n",
    "output['phone'] = person.select_one('.phone').text\n",
    "output['address'] = person.select_one('.email').text"
   ]
  },
  {
   "cell_type": "markdown",
   "id": "97f7d7e5-7452-4140-9feb-3dd64604b0d6",
   "metadata": {},
   "source": [
    "# New Exercises"
   ]
  },
  {
   "cell_type": "code",
   "execution_count": 55,
   "id": "69af3dbe-bc55-4cd8-8f18-97388e85ce8c",
   "metadata": {},
   "outputs": [
    {
     "data": {
      "text/plain": [
       "<Response [200]>"
      ]
     },
     "execution_count": 55,
     "metadata": {},
     "output_type": "execute_result"
    }
   ],
   "source": [
    "# ...\n",
    "headers = {'user-agent': 'Innis Data Science Cohort'}\n",
    "requests.get(url, headers=headers)\n",
    "# ..."
   ]
  },
  {
   "cell_type": "code",
   "execution_count": null,
   "id": "c6f1a1d7-1ad0-4241-a422-039e3f757eba",
   "metadata": {},
   "outputs": [],
   "source": []
  }
 ],
 "metadata": {
  "kernelspec": {
   "display_name": "Python 3 (ipykernel)",
   "language": "python",
   "name": "python3"
  },
  "language_info": {
   "codemirror_mode": {
    "name": "ipython",
    "version": 3
   },
   "file_extension": ".py",
   "mimetype": "text/x-python",
   "name": "python",
   "nbconvert_exporter": "python",
   "pygments_lexer": "ipython3",
   "version": "3.9.7"
  }
 },
 "nbformat": 4,
 "nbformat_minor": 5
}
