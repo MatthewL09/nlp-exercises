{
 "cells": [
  {
   "cell_type": "code",
   "execution_count": 72,
   "id": "6e6d56cc-ea42-466e-890f-5b854a8f60b8",
   "metadata": {},
   "outputs": [],
   "source": [
    "from requests import get\n",
    "from bs4 import BeautifulSoup\n",
    "import os\n",
    "import pandas as pd\n",
    "pd.options\n",
    "#import\n",
    "import warnings\n",
    "warnings.filterwarnings(\"ignore\")\n",
    "pd.set_option('display.max_columns',None) \n",
    "pd.set_option('display.max_rows',None)"
   ]
  },
  {
   "cell_type": "code",
   "execution_count": 3,
   "id": "fef54d75-6e71-427a-a057-6c200d1b6808",
   "metadata": {},
   "outputs": [
    {
     "data": {
      "text/plain": [
       "<Response [200]>"
      ]
     },
     "execution_count": 3,
     "metadata": {},
     "output_type": "execute_result"
    }
   ],
   "source": [
    "url = 'https://web-scraping-demo.zgulde.net/people'\n",
    "response = get(url)\n",
    "response"
   ]
  },
  {
   "cell_type": "code",
   "execution_count": 6,
   "id": "69739c80-8595-433b-b57a-bd22cf51d5c2",
   "metadata": {},
   "outputs": [
    {
     "name": "stdout",
     "output_type": "stream",
     "text": [
      "<!DOCTYPE html>\n",
      "<html lang=\"en\">\n",
      "<head>\n",
      "    <meta charset=\"UTF-8\">\n",
      "    <meta http-equiv=\"X-UA-Compatible\" content=\"IE=edge\">\n",
      "    <meta name=\"viewport\" content=\"width=device-width, initial-scale=1.0\">\n",
      "    <title>Example People Page</title>\n",
      "    <link href=\"https://unpkg.com/tailwindcss@^2/dist/tailwind.min.css\" rel=\"stylesheet\" />\n",
      "    <link rel=\"stylesheet\" href=\"https://cdn.jsdelivr.net/npm/bootstr\n"
     ]
    }
   ],
   "source": [
    "print(response.text[:400])"
   ]
  },
  {
   "cell_type": "code",
   "execution_count": 25,
   "id": "ccbd9fc1-12bd-4341-ad38-732bb652b041",
   "metadata": {},
   "outputs": [],
   "source": [
    "soup = BeautifulSoup(response.text, 'html.parser')"
   ]
  },
  {
   "cell_type": "code",
   "execution_count": null,
   "id": "e441e75c-b9b3-40ea-8fed-7c48be8a5be4",
   "metadata": {},
   "outputs": [],
   "source": [
    "articles = soup.select('div.container')"
   ]
  },
  {
   "cell_type": "code",
   "execution_count": 26,
   "id": "d12acc1e-ab6b-4abb-927d-054b0e961831",
   "metadata": {},
   "outputs": [
    {
     "data": {
      "text/plain": [
       "'div.grid.grid-cols-2'"
      ]
     },
     "execution_count": 26,
     "metadata": {},
     "output_type": "execute_result"
    }
   ],
   "source": [
    "'div.grid.grid-cols-2'\n"
   ]
  },
  {
   "cell_type": "code",
   "execution_count": 47,
   "id": "551293d0-6741-4ae7-8154-02d7d4e9c411",
   "metadata": {},
   "outputs": [],
   "source": [
    "peoples = soup.select('div.person')"
   ]
  },
  {
   "cell_type": "code",
   "execution_count": 48,
   "id": "a72658f8-f216-43ba-bfec-cf7c29cae9b8",
   "metadata": {},
   "outputs": [
    {
     "data": {
      "text/plain": [
       "<div class=\"person border rounded px-3 py-5 grid grid-cols-2 gap-x-3 bg-purple-50 hover:shadow-lg transition duration-500\">\n",
       "<h2 class=\"text-2xl text-purple-800 name col-span-full border-b\">Dawn Aguilar</h2>\n",
       "<p class=\"quote col-span-full px-5 py-5 text-center text-gray-500\">\n",
       "            \"Quality-focused next generation flexibility\"\n",
       "        </p>\n",
       "<div class=\"grid grid-cols-9\">\n",
       "<i class=\"bi bi-envelope-fill text-purple-800\"></i>\n",
       "<p class=\"email col-span-8\">lancemills@taylor-johnson.com</p>\n",
       "<i class=\"bi bi-telephone-fill text-purple-800\"></i>\n",
       "<p class=\"phone col-span-8\">001-524-100-8054x73422</p>\n",
       "</div>\n",
       "<div class=\"address grid grid-cols-9\">\n",
       "<i class=\"bi bi-geo-fill text-purple-800\"></i>\n",
       "<p class=\"col-span-8\">\n",
       "                3909 Joshua Divide Suite 834 <br/>\n",
       "                West Peggyview, TN 99055\n",
       "            </p>\n",
       "</div>\n",
       "</div>"
      ]
     },
     "execution_count": 48,
     "metadata": {},
     "output_type": "execute_result"
    }
   ],
   "source": [
    "people = peoples[0]\n",
    "people"
   ]
  },
  {
   "cell_type": "code",
   "execution_count": 49,
   "id": "0a3ea6bb-f1c2-427e-b496-b555e4328739",
   "metadata": {},
   "outputs": [],
   "source": [
    "def parse_personal_info(people):\n",
    "    output = {}\n",
    "    output['person'] = people.find('h2').text\n",
    "    # using .strip() helps to remove any white space leading or trailing\n",
    "    output['quote'], output['email'], output['phone'], output['address'] = (p.text.strip for p in people.find_all('p'))\n",
    "    return output"
   ]
  },
  {
   "cell_type": "code",
   "execution_count": 50,
   "id": "34a129ed-354c-4b3c-88ea-9d675f705d98",
   "metadata": {},
   "outputs": [
    {
     "data": {
      "text/html": [
       "<div>\n",
       "<style scoped>\n",
       "    .dataframe tbody tr th:only-of-type {\n",
       "        vertical-align: middle;\n",
       "    }\n",
       "\n",
       "    .dataframe tbody tr th {\n",
       "        vertical-align: top;\n",
       "    }\n",
       "\n",
       "    .dataframe thead th {\n",
       "        text-align: right;\n",
       "    }\n",
       "</style>\n",
       "<table border=\"1\" class=\"dataframe\">\n",
       "  <thead>\n",
       "    <tr style=\"text-align: right;\">\n",
       "      <th></th>\n",
       "      <th>person</th>\n",
       "      <th>quote</th>\n",
       "      <th>email</th>\n",
       "      <th>phone</th>\n",
       "      <th>address</th>\n",
       "    </tr>\n",
       "  </thead>\n",
       "  <tbody>\n",
       "    <tr>\n",
       "      <th>0</th>\n",
       "      <td>Dawn Aguilar</td>\n",
       "      <td>\\n            \"Quality-focused next generation...</td>\n",
       "      <td>lancemills@taylor-johnson.com</td>\n",
       "      <td>001-524-100-8054x73422</td>\n",
       "      <td>\\n                3909 Joshua Divide Suite 834...</td>\n",
       "    </tr>\n",
       "    <tr>\n",
       "      <th>1</th>\n",
       "      <td>Amanda Lawson</td>\n",
       "      <td>\\n            \"Reduced 24/7 protocol\"\\n</td>\n",
       "      <td>tammy94@gmail.com</td>\n",
       "      <td>5983633899</td>\n",
       "      <td>\\n                56261 Wise Brooks Apt. 689 \\...</td>\n",
       "    </tr>\n",
       "    <tr>\n",
       "      <th>2</th>\n",
       "      <td>Shawn Benson</td>\n",
       "      <td>\\n            \"Optional optimal circuit\"\\n    ...</td>\n",
       "      <td>brent51@turner-ewing.com</td>\n",
       "      <td>222.813.7512x42336</td>\n",
       "      <td>\\n                9734 Green Neck Suite 712 \\n...</td>\n",
       "    </tr>\n",
       "    <tr>\n",
       "      <th>3</th>\n",
       "      <td>James Harris</td>\n",
       "      <td>\\n            \"Profound object-oriented knowle...</td>\n",
       "      <td>greynolds@russell.com</td>\n",
       "      <td>180.903.7848x1935</td>\n",
       "      <td>\\n                7614 Becker Drive Suite 815 ...</td>\n",
       "    </tr>\n",
       "    <tr>\n",
       "      <th>4</th>\n",
       "      <td>Stephanie Robbins</td>\n",
       "      <td>\\n            \"Synchronized intermediate extra...</td>\n",
       "      <td>timothy32@esparza-foster.info</td>\n",
       "      <td>(239)808-3094</td>\n",
       "      <td>\\n                935 Gregory Plains Suite 462...</td>\n",
       "    </tr>\n",
       "    <tr>\n",
       "      <th>5</th>\n",
       "      <td>Shannon Jacobs</td>\n",
       "      <td>\\n            \"Cross-group user-facing support...</td>\n",
       "      <td>ybailey@hotmail.com</td>\n",
       "      <td>001-301-194-1808x58943</td>\n",
       "      <td>\\n                2403 Noble Highway Apt. 235 ...</td>\n",
       "    </tr>\n",
       "    <tr>\n",
       "      <th>6</th>\n",
       "      <td>Thomas Huffman</td>\n",
       "      <td>\\n            \"Optional interactive concept\"\\n...</td>\n",
       "      <td>jillian83@lee-contreras.biz</td>\n",
       "      <td>(416)612-1626</td>\n",
       "      <td>\\n                32373 Kyle Vista Apt. 249 \\n...</td>\n",
       "    </tr>\n",
       "    <tr>\n",
       "      <th>7</th>\n",
       "      <td>Ryan Bennett</td>\n",
       "      <td>\\n            \"Function-based contextually-bas...</td>\n",
       "      <td>eperez@oliver.org</td>\n",
       "      <td>879-792-3626x5271</td>\n",
       "      <td>\\n                7959 Austin Plaza Apt. 500 \\...</td>\n",
       "    </tr>\n",
       "    <tr>\n",
       "      <th>8</th>\n",
       "      <td>Donna Sloan</td>\n",
       "      <td>\\n            \"Exclusive bandwidth-monitored o...</td>\n",
       "      <td>joshua52@yahoo.com</td>\n",
       "      <td>(664)096-6373x88123</td>\n",
       "      <td>\\n                095 Campbell Cliff \\n       ...</td>\n",
       "    </tr>\n",
       "    <tr>\n",
       "      <th>9</th>\n",
       "      <td>Brendan Weeks</td>\n",
       "      <td>\\n            \"Extended optimal moderator\"\\n  ...</td>\n",
       "      <td>johnwang@patterson.biz</td>\n",
       "      <td>001-006-585-4627</td>\n",
       "      <td>\\n                8688 Harrison Circle Apt. 05...</td>\n",
       "    </tr>\n",
       "  </tbody>\n",
       "</table>\n",
       "</div>"
      ],
      "text/plain": [
       "              person                                              quote  \\\n",
       "0       Dawn Aguilar  \\n            \"Quality-focused next generation...   \n",
       "1      Amanda Lawson    \\n            \"Reduced 24/7 protocol\"\\n           \n",
       "2       Shawn Benson  \\n            \"Optional optimal circuit\"\\n    ...   \n",
       "3       James Harris  \\n            \"Profound object-oriented knowle...   \n",
       "4  Stephanie Robbins  \\n            \"Synchronized intermediate extra...   \n",
       "5     Shannon Jacobs  \\n            \"Cross-group user-facing support...   \n",
       "6     Thomas Huffman  \\n            \"Optional interactive concept\"\\n...   \n",
       "7       Ryan Bennett  \\n            \"Function-based contextually-bas...   \n",
       "8        Donna Sloan  \\n            \"Exclusive bandwidth-monitored o...   \n",
       "9      Brendan Weeks  \\n            \"Extended optimal moderator\"\\n  ...   \n",
       "\n",
       "                           email                   phone  \\\n",
       "0  lancemills@taylor-johnson.com  001-524-100-8054x73422   \n",
       "1              tammy94@gmail.com              5983633899   \n",
       "2       brent51@turner-ewing.com      222.813.7512x42336   \n",
       "3          greynolds@russell.com       180.903.7848x1935   \n",
       "4  timothy32@esparza-foster.info           (239)808-3094   \n",
       "5            ybailey@hotmail.com  001-301-194-1808x58943   \n",
       "6    jillian83@lee-contreras.biz           (416)612-1626   \n",
       "7              eperez@oliver.org       879-792-3626x5271   \n",
       "8             joshua52@yahoo.com     (664)096-6373x88123   \n",
       "9         johnwang@patterson.biz        001-006-585-4627   \n",
       "\n",
       "                                             address  \n",
       "0  \\n                3909 Joshua Divide Suite 834...  \n",
       "1  \\n                56261 Wise Brooks Apt. 689 \\...  \n",
       "2  \\n                9734 Green Neck Suite 712 \\n...  \n",
       "3  \\n                7614 Becker Drive Suite 815 ...  \n",
       "4  \\n                935 Gregory Plains Suite 462...  \n",
       "5  \\n                2403 Noble Highway Apt. 235 ...  \n",
       "6  \\n                32373 Kyle Vista Apt. 249 \\n...  \n",
       "7  \\n                7959 Austin Plaza Apt. 500 \\...  \n",
       "8  \\n                095 Campbell Cliff \\n       ...  \n",
       "9  \\n                8688 Harrison Circle Apt. 05...  "
      ]
     },
     "execution_count": 50,
     "metadata": {},
     "output_type": "execute_result"
    }
   ],
   "source": [
    "pd.DataFrame([parse_personal_info(people) for people in peoples])"
   ]
  },
  {
   "cell_type": "code",
   "execution_count": 59,
   "id": "5543a2ab-72c7-42d5-adaf-83a5c2b6f80d",
   "metadata": {},
   "outputs": [
    {
     "data": {
      "text/plain": [
       "{'person': 'Dawn Aguilar',\n",
       " 'quote': <p class=\"quote col-span-full px-5 py-5 text-center text-gray-500\">\n",
       "             \"Quality-focused next generation flexibility\"\n",
       "         </p>,\n",
       " 'email': 'lancemills@taylor-johnson.com',\n",
       " 'phone': '001-524-100-8054x73422',\n",
       " 'address': 'lancemills@taylor-johnson.com'}"
      ]
     },
     "execution_count": 59,
     "metadata": {},
     "output_type": "execute_result"
    }
   ],
   "source": [
    "# another way to get this done\n",
    "person = peoples[0]\n",
    "output = {}\n",
    "output['person'] = people.find('h2').text\n",
    "output['quote'] = person.select('.quote')[0]\n",
    "output['email'] = person.select_one('.email').text\n",
    "output['phone'] = person.select_one('.phone').text\n",
    "output['address'] = person.select_one('.email').text\n",
    "\n",
    "output"
   ]
  },
  {
   "cell_type": "markdown",
   "id": "97f7d7e5-7452-4140-9feb-3dd64604b0d6",
   "metadata": {},
   "source": [
    "# New Exercises"
   ]
  },
  {
   "cell_type": "code",
   "execution_count": 60,
   "id": "68c410d3-73e9-4256-af62-60ee872a5a38",
   "metadata": {},
   "outputs": [],
   "source": [
    "url = \"https://codeup.com/workshops/from-bootcamp-to-bootcamp-a-military-appreciation-panel/\""
   ]
  },
  {
   "cell_type": "code",
   "execution_count": 62,
   "id": "69af3dbe-bc55-4cd8-8f18-97388e85ce8c",
   "metadata": {},
   "outputs": [],
   "source": [
    "# ...\n",
    "headers = {'user-agent': 'Innis Data Science Cohort'}\n",
    "response = requests.get(url, headers=headers)\n",
    "# ..."
   ]
  },
  {
   "cell_type": "code",
   "execution_count": 64,
   "id": "c6f1a1d7-1ad0-4241-a422-039e3f757eba",
   "metadata": {},
   "outputs": [
    {
     "name": "stdout",
     "output_type": "stream",
     "text": [
      "<!DOCTYPE html>\n",
      "<html lang=\"en-US\">\n",
      "<head>\n",
      "\t<meta charset=\"UTF-8\" />\n",
      "<meta http-equiv=\"X-UA-Compatible\" content=\"IE=edge\">\n",
      "\t<link rel=\"pingback\" href=\"https://codeup.com/xmlrpc.php\" />\n",
      "\n",
      "\t<script type=\"text/javascript\">\n",
      "\t\tdocument.documentElement.className = 'js';\n",
      "\t</script>\n",
      "\t\n",
      "\t<link rel=\"preconnect\" href=\"https://fonts.gstatic.com\" crossorigin /><script id=\"diviarea-loader\">window.DiviPopupData=window.DiviAreaConfig={\"zIndex\":1000000,\"animateSpeed\":400,\"triggerClassPrefix\":\"show-popup-\",\"idAttri\n"
     ]
    }
   ],
   "source": [
    "print(response.text[:500])"
   ]
  },
  {
   "cell_type": "code",
   "execution_count": 65,
   "id": "920bc472-a0bd-4d70-bc7d-99c10bd52fa7",
   "metadata": {},
   "outputs": [],
   "source": [
    "# Make a soup variable holding the response content\n",
    "soup = BeautifulSoup(response.text, 'html.parser')"
   ]
  },
  {
   "cell_type": "code",
   "execution_count": 66,
   "id": "54edccfc-5c24-4e68-8bef-fdf097022088",
   "metadata": {},
   "outputs": [
    {
     "data": {
      "text/plain": [
       "'Apr 27, 2022'"
      ]
     },
     "execution_count": 66,
     "metadata": {},
     "output_type": "execute_result"
    }
   ],
   "source": [
    "soup.find('span',class_='published').text"
   ]
  },
  {
   "cell_type": "code",
   "execution_count": 67,
   "id": "ab958827-0300-4253-aa5a-ee0b8c0d1e81",
   "metadata": {},
   "outputs": [],
   "source": [
    "articles = soup.find('h1').text"
   ]
  },
  {
   "cell_type": "code",
   "execution_count": 68,
   "id": "cb9fed11-0c43-4f31-bf37-b2ae64f0408f",
   "metadata": {},
   "outputs": [
    {
     "data": {
      "text/plain": [
       "'From Bootcamp to Bootcamp | A Military Appreciation Panel'"
      ]
     },
     "execution_count": 68,
     "metadata": {},
     "output_type": "execute_result"
    }
   ],
   "source": [
    "articles"
   ]
  },
  {
   "cell_type": "code",
   "execution_count": 73,
   "id": "4838ab06-236b-493f-ab31-68962c943f8d",
   "metadata": {},
   "outputs": [],
   "source": [
    "articles = soup.select('div.container')"
   ]
  },
  {
   "cell_type": "code",
   "execution_count": 69,
   "id": "85e268dd-a07f-448f-be0a-13a75de97814",
   "metadata": {},
   "outputs": [],
   "source": [
    "article = articles[0]"
   ]
  },
  {
   "cell_type": "code",
   "execution_count": 74,
   "id": "4861b95d-4afb-4283-8c83-be33f020ca58",
   "metadata": {},
   "outputs": [],
   "source": [
    "def parse_news_article(article):\n",
    "    output = {}\n",
    "    output['headline'] = article.find('h1').text\n",
    "    output['description'] = [p.text.strip() for p in article.find_all('p')]\n",
    "    return output"
   ]
  },
  {
   "cell_type": "code",
   "execution_count": 75,
   "id": "e7e5ece8-05ca-4b67-91b6-8021ed3ff7c2",
   "metadata": {},
   "outputs": [
    {
     "data": {
      "text/html": [
       "<div>\n",
       "<style scoped>\n",
       "    .dataframe tbody tr th:only-of-type {\n",
       "        vertical-align: middle;\n",
       "    }\n",
       "\n",
       "    .dataframe tbody tr th {\n",
       "        vertical-align: top;\n",
       "    }\n",
       "\n",
       "    .dataframe thead th {\n",
       "        text-align: right;\n",
       "    }\n",
       "</style>\n",
       "<table border=\"1\" class=\"dataframe\">\n",
       "  <thead>\n",
       "    <tr style=\"text-align: right;\">\n",
       "      <th></th>\n",
       "      <th>headline</th>\n",
       "      <th>description</th>\n",
       "    </tr>\n",
       "  </thead>\n",
       "  <tbody>\n",
       "    <tr>\n",
       "      <th>0</th>\n",
       "      <td>From Bootcamp to Bootcamp | A Military Appreci...</td>\n",
       "      <td>[Apr 27, 2022 | Alumni Stories, Dallas, Events...</td>\n",
       "    </tr>\n",
       "  </tbody>\n",
       "</table>\n",
       "</div>"
      ],
      "text/plain": [
       "                                            headline  \\\n",
       "0  From Bootcamp to Bootcamp | A Military Appreci...   \n",
       "\n",
       "                                         description  \n",
       "0  [Apr 27, 2022 | Alumni Stories, Dallas, Events...  "
      ]
     },
     "execution_count": 75,
     "metadata": {},
     "output_type": "execute_result"
    }
   ],
   "source": [
    "pd.DataFrame([parse_news_article(article) for article in articles])"
   ]
  },
  {
   "cell_type": "code",
   "execution_count": 76,
   "id": "aff36a55-5662-4d23-b3d4-4647fbcb1138",
   "metadata": {},
   "outputs": [],
   "source": [
    "def get_article_parts (url,tag, cl):\n",
    "    headers = {'User-Agent': 'Codeup Data Science'}\n",
    "    response = get(url, headers=headers)\n",
    "    soup = BeautifulSoup(response.text)\n",
    "    article = soup.find(tag, class_=cl).get_text(strip = True)\n",
    "\n",
    "    return article\n"
   ]
  },
  {
   "cell_type": "code",
   "execution_count": 77,
   "id": "c4a2fdeb-5514-42d5-ac30-aadcd6be58f2",
   "metadata": {},
   "outputs": [],
   "source": [
    "url = 'https://codeup.com/alumni-stories/from-speech-pathology-to-business-intelligence/'"
   ]
  },
  {
   "cell_type": "code",
   "execution_count": 78,
   "id": "03b841df-55a8-4910-8588-e5533f5c4562",
   "metadata": {},
   "outputs": [],
   "source": [
    "content = get_article_parts (url, 'div', 'container')"
   ]
  },
  {
   "cell_type": "code",
   "execution_count": 79,
   "id": "949c576b-d968-4e03-96f2-f600c391e74d",
   "metadata": {},
   "outputs": [
    {
     "data": {
      "text/plain": [
       "'From Speech Pathology to Business IntelligenceOct 18, 2021|Alumni StoriesBy: Alicia GonzalezBefore Codeup, I was a home health Speech-Language Pathologist Assistant. I would go from home to home working with children anywhere from 1 year old to 18 years old. After 5 years of the profession, my body was getting tired driving around all the time and I felt overworked. The work was satisfying and I do miss working with the kiddos, but I just felt drained. I knew it was time to find a different field, so I started thinking about what else I was good at.Then one day as I was on my way to a patient’s home, I found a Codeup billboard near Splashtown that said “drive to a job you love” and I took it as a sign. I thought, “I want to drive to a job I love!” I had also heard nothing but good things about Codeup from a friend that went the Web Development route. She answered my questions and helped me through the whole process.At first, I was a little worried about tuition payment, but once I got started in theapplicationprocess, they held Zoom meetings where they would talk about all the funding options. They made it really easy and addressed all of my concerns. I realized I didn’t have to be scared about thefinancial aspect. I applied to a couple of grants and was able to get about a third of my tuition covered through the Train for Jobs SA grant from Workforce Solutions Alamo. That really helped me. I also received a few different scholarships from Codeup. The rest of it was a loan from Meritize.It was difficult leaving something I was comfortable and familiar with to start something new with no data science background, but I have always enjoyed all things tech. Once we got into the pre-assessment work and then the prework leading up to class, it showed me, “okay this IS what I wanted to be doing.” I really enjoyed it, thought it was fun, and realized this was for me.Overall, I really enjoyed the program.We were in Zoom the whole time because of the pandemic, but they made it slow, nice, and easy. The instructors are absolutely wonderful. Every single instructor helped me at one point or another, teaching things from ground zero and explaining everything really nicely in a way I can understand. One thing I value the most about the instructors is that, not only do they go over all the necessary skills needed in a data-related career, but they teach ushowto learn the skills as well. They didn’t just give us the work and tell us exactly how to do it. They provide instruction, hands-on exercises/projects, and answers to all questions, but most importantly, they walk us through how to work with the data and obtain the answers on our own. This is extremely valuable as I believe it is the key to success in this field.Now after graduating from Codeup, I’m a Business Intelligence Analyst atLiquid Web. I’ve been here almost three months now and I’m contributing to so many projects. I really feel like a true member of the team. I can figure things out for myself and my bosses are telling me how well I’m doing and how far I’ve come since working here. I didn’t have to ask for much help or training, because Codeup prepared me well and taught me how to learn when I run into skills they don’t teach. It’s been really good.I’m so glad I made this change. It was scary to take that leap of faith, but ultimately, I’m really glad I did. I love my job and I love what I’m doing.If anyone is looking to make a career change and struggling to find their best fit, I recommend looking into Codeup and going through their process. I’m extremely happy where I am right now and wouldn’t change a thing.Our ProgramsCloud AdministrationFull Stack Web DevelopmentData ScienceLatest Blog ArticlesFrom Bootcamp to Bootcamp | A Military Appreciation PanelOur Acquisition of the Rackspace Cloud Academy: One Year LaterLearn to Code: HTML & CSS on 4/30Learn to Code: Python Workshop on 4/23Coming Soon: Cloud Administration'"
      ]
     },
     "execution_count": 79,
     "metadata": {},
     "output_type": "execute_result"
    }
   ],
   "source": [
    "content"
   ]
  },
  {
   "cell_type": "code",
   "execution_count": 80,
   "id": "64130977-9edc-4b04-aa11-9ba812e4ccce",
   "metadata": {},
   "outputs": [
    {
     "data": {
      "text/plain": [
       "'From Speech Pathology to Business Intelligence'"
      ]
     },
     "execution_count": 80,
     "metadata": {},
     "output_type": "execute_result"
    }
   ],
   "source": [
    "title = get_article_parts (url, 'h1', 'entry-title')\n",
    "title\n"
   ]
  },
  {
   "cell_type": "code",
   "execution_count": 81,
   "id": "6523a425-8f2b-4ace-b704-c698a0d20072",
   "metadata": {},
   "outputs": [],
   "source": [
    "def get_codeup_blog (url):\n",
    "    '''\n",
    "    '''\n",
    "    #set the headers\n",
    "    headers = {'User-Agent': 'Codeup Data Science'}\n",
    "    \n",
    "    #Get rhe http response object from the server\n",
    "    response = get(url, headers=headers)\n",
    "    \n",
    "    soup = BeautifulSoup(response.text)\n",
    "    \n",
    "    # get the content\n",
    "    content = soup.find('div', class_='entry-content').get_text(strip = True)\n",
    "    \n",
    "    #get the title\n",
    "    title = soup.find('h1', class_='entry-title').text\n",
    "\n",
    "    #get the date\n",
    "    published_date = soup.find('span', class_='published').text\n",
    "    \n",
    "    #create a dictionary\n",
    "    dic = {\n",
    "        'title': title,\n",
    "        'content': content,\n",
    "        'published_date': published_date\n",
    "    }\n",
    "    return dic"
   ]
  },
  {
   "cell_type": "code",
   "execution_count": 82,
   "id": "fdb0f9f9-159d-4624-b151-c8a28b8dc00b",
   "metadata": {},
   "outputs": [],
   "source": [
    "def get_glob_articles (urls):\n",
    "    #create a list of dictionaries\n",
    "    list_dic = [get_codeup_blog(url) for url in urls]\n",
    "    \n",
    "    return pd.DataFrame(list_dic).style.set_properties(**{'text-align': 'left'})"
   ]
  },
  {
   "cell_type": "code",
   "execution_count": 83,
   "id": "f2b78a81-8e54-4873-851d-0f6d8db601a3",
   "metadata": {},
   "outputs": [],
   "source": [
    "web_lst = ['https://codeup.com/alumni-stories/from-speech-pathology-to-business-intelligence/',\n",
    "          'https://codeup.com/workshops/from-bootcamp-to-bootcamp-a-military-appreciation-panel/',\n",
    "          'https://codeup.com/alumni-stories/how-i-went-from-codeup-to-business-owner/',\n",
    "          'https://codeup.com/dallas-newsletter/fight-covid-19-data-challenge/',\n",
    "           'https://codeup.com/web-development/codeup-alumni-make-water/']"
   ]
  },
  {
   "cell_type": "code",
   "execution_count": 84,
   "id": "11844efd-85a9-4776-a335-163e64c8e9d2",
   "metadata": {},
   "outputs": [
    {
     "data": {
      "text/html": [
       "<style type=\"text/css\">\n",
       "#T_96a1f_row0_col0, #T_96a1f_row0_col1, #T_96a1f_row0_col2, #T_96a1f_row1_col0, #T_96a1f_row1_col1, #T_96a1f_row1_col2, #T_96a1f_row2_col0, #T_96a1f_row2_col1, #T_96a1f_row2_col2, #T_96a1f_row3_col0, #T_96a1f_row3_col1, #T_96a1f_row3_col2, #T_96a1f_row4_col0, #T_96a1f_row4_col1, #T_96a1f_row4_col2 {\n",
       "  text-align: left;\n",
       "}\n",
       "</style>\n",
       "<table id=\"T_96a1f_\">\n",
       "  <thead>\n",
       "    <tr>\n",
       "      <th class=\"blank level0\" >&nbsp;</th>\n",
       "      <th class=\"col_heading level0 col0\" >title</th>\n",
       "      <th class=\"col_heading level0 col1\" >content</th>\n",
       "      <th class=\"col_heading level0 col2\" >published_date</th>\n",
       "    </tr>\n",
       "  </thead>\n",
       "  <tbody>\n",
       "    <tr>\n",
       "      <th id=\"T_96a1f_level0_row0\" class=\"row_heading level0 row0\" >0</th>\n",
       "      <td id=\"T_96a1f_row0_col0\" class=\"data row0 col0\" >From Speech Pathology to Business Intelligence</td>\n",
       "      <td id=\"T_96a1f_row0_col1\" class=\"data row0 col1\" >By: Alicia GonzalezBefore Codeup, I was a home health Speech-Language Pathologist Assistant. I would go from home to home working with children anywhere from 1 year old to 18 years old. After 5 years of the profession, my body was getting tired driving around all the time and I felt overworked. The work was satisfying and I do miss working with the kiddos, but I just felt drained. I knew it was time to find a different field, so I started thinking about what else I was good at.Then one day as I was on my way to a patient’s home, I found a Codeup billboard near Splashtown that said “drive to a job you love” and I took it as a sign. I thought, “I want to drive to a job I love!” I had also heard nothing but good things about Codeup from a friend that went the Web Development route. She answered my questions and helped me through the whole process.At first, I was a little worried about tuition payment, but once I got started in theapplicationprocess, they held Zoom meetings where they would talk about all the funding options. They made it really easy and addressed all of my concerns. I realized I didn’t have to be scared about thefinancial aspect. I applied to a couple of grants and was able to get about a third of my tuition covered through the Train for Jobs SA grant from Workforce Solutions Alamo. That really helped me. I also received a few different scholarships from Codeup. The rest of it was a loan from Meritize.It was difficult leaving something I was comfortable and familiar with to start something new with no data science background, but I have always enjoyed all things tech. Once we got into the pre-assessment work and then the prework leading up to class, it showed me, “okay this IS what I wanted to be doing.” I really enjoyed it, thought it was fun, and realized this was for me.Overall, I really enjoyed the program.We were in Zoom the whole time because of the pandemic, but they made it slow, nice, and easy. The instructors are absolutely wonderful. Every single instructor helped me at one point or another, teaching things from ground zero and explaining everything really nicely in a way I can understand. One thing I value the most about the instructors is that, not only do they go over all the necessary skills needed in a data-related career, but they teach ushowto learn the skills as well. They didn’t just give us the work and tell us exactly how to do it. They provide instruction, hands-on exercises/projects, and answers to all questions, but most importantly, they walk us through how to work with the data and obtain the answers on our own. This is extremely valuable as I believe it is the key to success in this field.Now after graduating from Codeup, I’m a Business Intelligence Analyst atLiquid Web. I’ve been here almost three months now and I’m contributing to so many projects. I really feel like a true member of the team. I can figure things out for myself and my bosses are telling me how well I’m doing and how far I’ve come since working here. I didn’t have to ask for much help or training, because Codeup prepared me well and taught me how to learn when I run into skills they don’t teach. It’s been really good.I’m so glad I made this change. It was scary to take that leap of faith, but ultimately, I’m really glad I did. I love my job and I love what I’m doing.If anyone is looking to make a career change and struggling to find their best fit, I recommend looking into Codeup and going through their process. I’m extremely happy where I am right now and wouldn’t change a thing.</td>\n",
       "      <td id=\"T_96a1f_row0_col2\" class=\"data row0 col2\" >Oct 18, 2021</td>\n",
       "    </tr>\n",
       "    <tr>\n",
       "      <th id=\"T_96a1f_level0_row1\" class=\"row_heading level0 row1\" >1</th>\n",
       "      <td id=\"T_96a1f_row1_col0\" class=\"data row1 col0\" >From Bootcamp to Bootcamp | A Military Appreciation Panel</td>\n",
       "      <td id=\"T_96a1f_row1_col1\" class=\"data row1 col1\" >In honor of Military Appreciation Month, join us for a discussion with Codeup Alumni who are also Military Veterans! We will chat about their experiences attending a coding bootcamp, and how their military training set them up for success here at Codeup. Grab your virtual seat now so you can be sent the exclusive Livestream link on the 11th!Thank you to our panelists for participating:Christopher AguirreTaryn McKenzieDesiree McElroyAnd thanks to Codeup’s Trey Iapachino who is also an Air Force Veteran!</td>\n",
       "      <td id=\"T_96a1f_row1_col2\" class=\"data row1 col2\" >Apr 27, 2022</td>\n",
       "    </tr>\n",
       "    <tr>\n",
       "      <th id=\"T_96a1f_level0_row2\" class=\"row_heading level0 row2\" >2</th>\n",
       "      <td id=\"T_96a1f_row2_col0\" class=\"data row2 col0\" >How I Went From Codeup to Business Owner</td>\n",
       "      <td id=\"T_96a1f_row2_col1\" class=\"data row2 col1\" >Out of college, I was a bit of a mess.That’s what I would have told you, anyway. On the surface, I was put together. I graduated magna cum laude with a 3.8 in Molecular Biology, had professor recommendations under my belt, and a clear goal to apply for a PhD program in Clinical Psychology.But as I sat in the dry Colorado sunshine on graduation day, this thought popped into my head: “I never have to go to school EVER again…” As soon as I crossed the finish line, it nauseated me to think about going back to school right away.But I felt lost. If I wasn’t going to graduate school, I didn’t have a plan anymore.What the hell was I supposed to do?Being naive and idealistic, I considered applying to the Peace Corps. My brother-in-law (bless his heart) sat me down and explained that the beginning of my career was critical. He also mentioned that it takes about a year to save up for a year of not working; otherwise, I’d have to keep depending on my parents who had already supported me through college.Being bratty and unaware of how the world works, I rolled my eyes at his perfectly logical explanations, convinced he was obsessed with making money. I sat on my high horse, lauding myself for being willing to make a sacrifice when I literally had nothing to my name.In reality, I felt lost. I didn’t recognize it at the time, but going to the Peace Corps was an excuse to run away from uncertainty. I didn’t know what I wanted to do in life, and I also had these lofty dreams of maybe starting my own business one day or being a part of a movement that mattered. Sensing these hopes in me, my brother-in-law mentionedhe had seen billboards around town for a coding bootcamp named Codeup. If I didn’t know what I wanted to “do”, then maybe I couldbuild my skillsetinstead.My interest was piqued.Coding seemed cool. I pictured savvy devs in cute plaid shirts and man buns, and being able to live the #vanlife and become a digital nomad. (are you noticing my habit of being idealistic yet?). Buoyed by this vision, I jumped all-in. I told myself I’d go to everyhappy hour, mixer, network like crazy, and bondwith every single one of my classmates.It worked. I landed a job in software development at a cloud security company in Dallas. After spending a year in the Engineering department of my company, I had finally come to face the reality that I wasn’t very good at coding. More importantly, I was pretty apathetic about mastering it. If I continued down my career path as a developer, I’d have to keep learning and keeping up with the latest trends in development, and nothing in me felt excited about that.I was given an opportunity to join the Marketing department as a Digital Marketing Manager. At first, I felt guilty for even considering it. Did my parents spend their hard-earned money putting me through Codeup, only for me to give it all up because I was bored? It seemed like a sin straight out of the immigrant rulebook. My dream to love what I do was “selfish” and having a sense of purpose was a “luxury”. Eventually though, I braced myself and took the leap.It was one of the best decisions I ever made. I finally felt like I was “with my people”, a collection of brainy empaths with crazy ideas. I learned so much about marketing in general, which allowed me to start up my side business as a coach. I launched my first group coaching course in 2020, and I’m writing a book to release at the start of 2022. I’m living my dream every day, learning and growing with exciting things at every turn. I’ve connected with other coaches, and built a supportive web of connections across the globe. I can’t believe how far I’ve come.But I couldn’t have done it without first building my skills. In a world that penalizes people for not fitting into a neat career category, it can sometimes get confusing for people who have lots of interests. But I realized I didn’t get here bytryingto become a business owner or learn about marketing. I was just, A, open to the opportunity, and B, perfectly positioned to do so.Going through Codeup was a huge incentivefor the Marketing manager to hire me, despite the fact I had ZERO marketing experience. They figured, hey, if she can learn full-stack in four months, she can definitely learn the lay of the land in marketing. My exposure to marketing gave me the necessary courage and skills to start getting my content out there. I was writing blogs, publishing podcasts, and releasing YouTube videos.With a clear mission and vision in mind, everything fell into place. It’s not that I suddenly have everything figured out; instead, I’ve gotten used to the uncertainty.I no longer worry about what my career is going to be. I know it’s not going to be “one thing”. I won’t be a coder, a writer, or a coach.I’ll be a coder-writer-coach-podcaster-marketer-salesperson-youtuber-novelist. Why choose, when I know I can make money from my unique mix of skills?Society often suggests we have to choose. But I refuse to believe that anymore.If you’re reading this and you’re uncertain about where you’re headed, it’sokaynot to have all the answers. Take things day by day.Build your skillset. Follow what you love. Aim for mastery.And don’t rule out the 9-to-5 doing something you may not love. Your job doesn’t have to be your passion. A steady paycheck does wonders for anxiety and allows you to be creative and innovate in your side-hustles.Practice gratitude. Realize that, yes, things could be worse, but they can also be better. Be patient with learning to wobble on the thin line stretched between “This is enough” and “I wonder what would happen if…”Go down the rabbit holes. Be curious. And realize that life is about embracing the possibilities. Who knows where it can lead?Joyce Ling is a content creator and coach that helps dreamers fulfill their purpose by doing the work that matters most. She’s also the host ofThe Abundance Podcast, a writer in top publications on Medium.com, and an aspiring 9-to-5 escapee. Get her best productivity + self-discovery content bysigning up for her cozy weekly newsletter, STOKED.</td>\n",
       "      <td id=\"T_96a1f_row2_col2\" class=\"data row2 col2\" >Apr 30, 2021</td>\n",
       "    </tr>\n",
       "    <tr>\n",
       "      <th id=\"T_96a1f_level0_row3\" class=\"row_heading level0 row3\" >3</th>\n",
       "      <td id=\"T_96a1f_row3_col0\" class=\"data row3 col0\" >How Codeup Alumni Helped Dallas Youth Fight COVID-19</td>\n",
       "      <td id=\"T_96a1f_row3_col1\" class=\"data row3 col1\" >Three of our Web Development alumni from Dallas,Rex Sutton,Ry Sutton, andRonnel Palencia, worked with the Dallas Office of Innovation to build and deploy a full-stack application for its COVID-19 Data Challenge! To check out this beautiful project,click here. In July 2020, Rex, Ry, and Ron were part of the first class to graduate from Codeup’s Dallas campus. This application, to fight COVID-19, went live in mid September 2020, and the challenge ended in October 2020.The COVID-19 Data Challenge is a competition for students in grades 6 through 12 to use their analytical and/or coding skills using real COVID data sets. The students attempt to deliver real insights into how COVID is impacting local youth in Dallas.“This partnership between the City of Dallas, Dallas County, DISD and other organizations invites students to join the international role that data is playing to fight back against the novel coronavirus Covid-19. By participating in the challenge, students will be able to better understand the virus themselves and share their learnings with their peers to build awareness.” – Office of Innovation, Dallas, TXUsing web development skills to get kids involved in data? What an admirable project by our alumni! There are many Data Challenges, Datathons, and Hackathons happening all the time, with many different themes, for many different audiences! If you’re interested in competing in one, Google it to see what interests you! If you’d one day like to create the platform for one, apply for our Web Development programhere!</td>\n",
       "      <td id=\"T_96a1f_row3_col2\" class=\"data row3 col2\" >Oct 16, 2020</td>\n",
       "    </tr>\n",
       "    <tr>\n",
       "      <th id=\"T_96a1f_level0_row4\" class=\"row_heading level0 row4\" >4</th>\n",
       "      <td id=\"T_96a1f_row4_col0\" class=\"data row4 col0\" >How Codeup Alumni are Helping to Make Water</td>\n",
       "      <td id=\"T_96a1f_row4_col1\" class=\"data row4 col1\" >Imagine having a kit mailed to you with all the necessary components to make contaminated water clean. Cool, huh? Four of our alumni are helping to make that possible by partnering with the non-profitElequato design a website for their Make Water program. With this project, these Codeup alumni have the potential to make a global impact: Jacqueline Murralles, James Murralles, Ted Zamarron, and Carlos Teller.How Elequa is Making a DifferenceThe Make Water program inspires, educates, and equips people that want to make a tangible difference in the world. Elequa puts together DIY kits with the tools to purify water and delivers them to people that need them, locally and abroad. This project is also given to students in the San Antonio area, who in turn are challenged to research, tweak, and further develop the kits to make them better and more accessible. These problem-solving challenges engage students in the STEM field, inspiring teamwork and collaboration while making a difference that they can be proud of: helping to provide clean water.How Codeup Alumni are Making a DifferenceCurrently, the Make Water program lacks a platform to house and share the data gathered by students to improve the kits, while also challenging other community members for further development. They needed help with the gamification of these processes to make participation more engaging. That’s where Codeup alumniJacqueline Murralles,James Murralles,Ted Zamarron, andCarlos Tellercame in. They are helping Elequa to build an open-source application for the Make Water program that turns community participation into a game where users can level up as they contribute and collaborate through an array of real-world challenges inwater research, coding, hardware innovation, and creative storytelling.Did we mention that they are working on this project as volunteers, as Codeup alumni often do? Codeup students are always looking for ways to challenge themselves, sharpen their skills, and make a difference, and that continues after graduation. To see more of the projects our students have worked on (and what you can do, too, with Codeup), check out thesecapstone presentations.</td>\n",
       "      <td id=\"T_96a1f_row4_col2\" class=\"data row4 col2\" >Jul 27, 2020</td>\n",
       "    </tr>\n",
       "  </tbody>\n",
       "</table>\n"
      ],
      "text/plain": [
       "<pandas.io.formats.style.Styler at 0x7f8906998a90>"
      ]
     },
     "execution_count": 84,
     "metadata": {},
     "output_type": "execute_result"
    }
   ],
   "source": [
    "get_glob_articles(web_lst)"
   ]
  },
  {
   "cell_type": "code",
   "execution_count": null,
   "id": "9c208914-4dca-4d17-88a4-9381e3378a2d",
   "metadata": {},
   "outputs": [],
   "source": []
  }
 ],
 "metadata": {
  "kernelspec": {
   "display_name": "Python 3 (ipykernel)",
   "language": "python",
   "name": "python3"
  },
  "language_info": {
   "codemirror_mode": {
    "name": "ipython",
    "version": 3
   },
   "file_extension": ".py",
   "mimetype": "text/x-python",
   "name": "python",
   "nbconvert_exporter": "python",
   "pygments_lexer": "ipython3",
   "version": "3.9.7"
  }
 },
 "nbformat": 4,
 "nbformat_minor": 5
}
