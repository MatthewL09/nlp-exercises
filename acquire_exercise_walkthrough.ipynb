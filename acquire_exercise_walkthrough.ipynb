{
 "cells": [
  {
   "cell_type": "code",
   "execution_count": 1,
   "id": "ef16acb2-c3c8-4482-9196-9243ffdeeb79",
   "metadata": {},
   "outputs": [],
   "source": [
    "import pandas as pd\n",
    "import requests\n",
    "from bs4 import BeautifulSoup"
   ]
  },
  {
   "cell_type": "markdown",
   "id": "4be36416-f555-4e68-a0be-b07ba21bc0c9",
   "metadata": {},
   "source": [
    "- Figure out how to deal with one card\n",
    "- Figure out how to loop over cards on a page\n",
    "- Figure out how to deal with multiple pages (categories)\n"
   ]
  },
  {
   "cell_type": "code",
   "execution_count": 3,
   "id": "98ad10df-4a03-46d7-86cd-09f429966a78",
   "metadata": {},
   "outputs": [],
   "source": [
    "response = requests.get('http://www.inshorts.com/en/read/entertainment')\n",
    "soup = BeautifulSoup(response.text)"
   ]
  },
  {
   "cell_type": "code",
   "execution_count": 6,
   "id": "43313053-2e5e-4f50-bd6b-59f37bbcc61f",
   "metadata": {},
   "outputs": [
    {
     "data": {
      "text/plain": [
       "{'title': 'Sonu Sood asks for 50 liver transplants worth ₹12 crore as fees to promote a hospital'}"
      ]
     },
     "execution_count": 6,
     "metadata": {},
     "output_type": "execute_result"
    }
   ],
   "source": [
    "# .div is a little more specific\n",
    "# select one will be more specific before we broaden the scope with just a select\n",
    "card = soup.select_one('div.news-card')\n",
    "output = {}\n",
    "output['title'] = card.select_one('a.clickable').text.strip()\n",
    "output"
   ]
  },
  {
   "cell_type": "code",
   "execution_count": 7,
   "id": "b960e78e-94e6-429b-b275-8d1ce33fc1b8",
   "metadata": {},
   "outputs": [
    {
     "data": {
      "text/plain": [
       "<div class=\"news-card z-depth-1\" itemscope=\"\" itemtype=\"http://schema.org/NewsArticle\">\n",
       "<span content=\"\" itemid=\"https://inshorts.com/en/news/sonu-sood-asks-for-50-liver-transplants-worth-₹12-crore-as-fees-to-promote-a-hospital-1652178215731\" itemprop=\"mainEntityOfPage\" itemscope=\"\" itemtype=\"https://schema.org/WebPage\"></span>\n",
       "<span itemprop=\"author\" itemscope=\"itemscope\" itemtype=\"https://schema.org/Person\">\n",
       "<span content=\"Daisy Mowke\" itemprop=\"name\"></span>\n",
       "</span>\n",
       "<span content=\"Sonu Sood asks for 50 liver transplants worth ₹12 crore as fees to promote a hospital\" itemprop=\"description\"></span>\n",
       "<span itemprop=\"image\" itemscope=\"\" itemtype=\"https://schema.org/ImageObject\">\n",
       "<meta content=\"https://static.inshorts.com/inshorts/images/v1/variants/jpg/m/2022/05_may/10_tue/img_1652177483887_189.jpg?\" itemprop=\"url\"/>\n",
       "<meta content=\"864\" itemprop=\"width\"/>\n",
       "<meta content=\"483\" itemprop=\"height\"/>\n",
       "</span>\n",
       "<span itemprop=\"publisher\" itemscope=\"itemscope\" itemtype=\"https://schema.org/Organization\">\n",
       "<span content=\"https://inshorts.com/\" itemprop=\"url\"></span>\n",
       "<span content=\"Inshorts\" itemprop=\"name\"></span>\n",
       "<span itemprop=\"logo\" itemscope=\"\" itemtype=\"https://schema.org/ImageObject\">\n",
       "<span content=\"https://assets.inshorts.com/inshorts/images/v1/variants/jpg/m/2018/11_nov/21_wed/img_1542823931298_497.jpg\" itemprop=\"url\"></span>\n",
       "<meta content=\"400\" itemprop=\"width\"/>\n",
       "<meta content=\"60\" itemprop=\"height\"/>\n",
       "</span>\n",
       "</span>\n",
       "<div class=\"news-card-image\" style=\"background-image: url('https://static.inshorts.com/inshorts/images/v1/variants/jpg/m/2022/05_may/10_tue/img_1652177483887_189.jpg?')\">\n",
       "</div>\n",
       "<div class=\"news-card-title news-right-box\">\n",
       "<a class=\"clickable\" href=\"/en/news/sonu-sood-asks-for-50-liver-transplants-worth-₹12-crore-as-fees-to-promote-a-hospital-1652178215731\" onclick=\"track_GA_Mixpanel({'hitType': 'event', 'category': 'TitleOfNews', 'action': 'clicked', 'label': 'Sonu%20Sood%20asks%20for%2050%20liver%20transplants%20worth%20%E2%82%B912%20crore%20as%20fees%20to%20promote%20a%20hospital)' });\" style=\"color:#44444d!important\">\n",
       "<span itemprop=\"headline\">Sonu Sood asks for 50 liver transplants worth ₹12 crore as fees to promote a hospital</span>\n",
       "</a>\n",
       "<div class=\"news-card-author-time news-card-author-time-in-title\">\n",
       "<a href=\"/prev/en/news/sonu-sood-asks-for-50-liver-transplants-worth-₹12-crore-as-fees-to-promote-a-hospital-1652178215731\"><span class=\"short\">short</span></a> by <span class=\"author\">Daisy Mowke</span> / \n",
       "      <span class=\"time\" content=\"2022-05-10T10:23:35.000Z\" itemprop=\"datePublished\">03:53 pm</span> on <span clas=\"date\">10 May 2022,Tuesday</span>\n",
       "</div>\n",
       "</div>\n",
       "<div class=\"news-card-content news-right-box\">\n",
       "<div itemprop=\"articleBody\">Sonu Sood, speaking to The Man magazine, recalled how he gave the money from his last few endorsements to charity. Citing an example, he said, \"A gentleman...from Aster Hospitals connected with me...and said the group would like to collaborate with me...I said that I'll promote the hospitals, but give me 50 liver transplants. That's almost ₹12 crore in value.\"</div>\n",
       "<div class=\"news-card-author-time news-card-author-time-in-content\">\n",
       "<a href=\"/prev/en/news/sonu-sood-asks-for-50-liver-transplants-worth-₹12-crore-as-fees-to-promote-a-hospital-1652178215731\"><span class=\"short\">short</span></a> by <span class=\"author\">Daisy Mowke</span> / \n",
       "      <span class=\"time\" content=\"2022-05-10T10:23:35.000Z\" itemprop=\"dateModified\">03:53 pm</span> on <span class=\"date\">10 May</span>\n",
       "</div>\n",
       "</div>\n",
       "<div class=\"news-card-footer news-right-box\">\n",
       "<div class=\"read-more\">read more at <a class=\"source\" href=\"https://www.bollywoodhungama.com/amp/news/bollywood/sonu-sood-asks-50-liver-transplants-worth-rs-12-crores-endorsements-fees-aster-hospitals/?utm_campaign=fullarticle&amp;utm_medium=referral&amp;utm_source=inshorts \" onclick=\"track_GA_Mixpanel({'hitType': 'event', 'category': 'ReadMore', 'action': 'clicked', 'label': 'Bollywood%20Hungama' });\" target=\"_blank\">Bollywood Hungama</a></div>\n",
       "</div>\n",
       "</div>"
      ]
     },
     "execution_count": 7,
     "metadata": {},
     "output_type": "execute_result"
    }
   ],
   "source": [
    "card"
   ]
  },
  {
   "cell_type": "code",
   "execution_count": 10,
   "id": "c904239c-ead4-4d38-a816-9c1cc8f3b1fa",
   "metadata": {},
   "outputs": [],
   "source": [
    "# will give the whole thing of news card content\n",
    "# multiple divs inside this, need to look at and specify\n",
    "card_content = card.select_one('div.news-card-content')\n",
    "output['content'] = card_content.select_one('div').text"
   ]
  },
  {
   "cell_type": "code",
   "execution_count": 12,
   "id": "d37a64ad-3550-41e4-a149-6b78ddbdc215",
   "metadata": {},
   "outputs": [
    {
     "data": {
      "text/plain": [
       "<div class=\"news-card-content news-right-box\">\n",
       "<div itemprop=\"articleBody\">Sonu Sood, speaking to The Man magazine, recalled how he gave the money from his last few endorsements to charity. Citing an example, he said, \"A gentleman...from Aster Hospitals connected with me...and said the group would like to collaborate with me...I said that I'll promote the hospitals, but give me 50 liver transplants. That's almost ₹12 crore in value.\"</div>\n",
       "<div class=\"news-card-author-time news-card-author-time-in-content\">\n",
       "<a href=\"/prev/en/news/sonu-sood-asks-for-50-liver-transplants-worth-₹12-crore-as-fees-to-promote-a-hospital-1652178215731\"><span class=\"short\">short</span></a> by <span class=\"author\">Daisy Mowke</span> / \n",
       "      <span class=\"time\" content=\"2022-05-10T10:23:35.000Z\" itemprop=\"dateModified\">03:53 pm</span> on <span class=\"date\">10 May</span>\n",
       "</div>\n",
       "</div>"
      ]
     },
     "execution_count": 12,
     "metadata": {},
     "output_type": "execute_result"
    }
   ],
   "source": [
    "# now looking at the author and the time that is listed\n",
    "card_content"
   ]
  },
  {
   "cell_type": "code",
   "execution_count": 13,
   "id": "1b50a860-a4dd-424f-96fd-444484efb50e",
   "metadata": {},
   "outputs": [
    {
     "data": {
      "text/plain": [
       "'Daisy Mowke'"
      ]
     },
     "execution_count": 13,
     "metadata": {},
     "output_type": "execute_result"
    }
   ],
   "source": [
    "card_content.select_one('.author').text"
   ]
  },
  {
   "cell_type": "code",
   "execution_count": 14,
   "id": "3c1e9749-7fb1-4353-8817-df81dd87a64a",
   "metadata": {},
   "outputs": [],
   "source": [
    "output['author'] = card_content.select_one('.author').text"
   ]
  },
  {
   "cell_type": "code",
   "execution_count": 15,
   "id": "3ea479db-9b20-4b38-ae2d-60413ae2e12c",
   "metadata": {},
   "outputs": [
    {
     "data": {
      "text/plain": [
       "<div class=\"news-card-content news-right-box\">\n",
       "<div itemprop=\"articleBody\">Sonu Sood, speaking to The Man magazine, recalled how he gave the money from his last few endorsements to charity. Citing an example, he said, \"A gentleman...from Aster Hospitals connected with me...and said the group would like to collaborate with me...I said that I'll promote the hospitals, but give me 50 liver transplants. That's almost ₹12 crore in value.\"</div>\n",
       "<div class=\"news-card-author-time news-card-author-time-in-content\">\n",
       "<a href=\"/prev/en/news/sonu-sood-asks-for-50-liver-transplants-worth-₹12-crore-as-fees-to-promote-a-hospital-1652178215731\"><span class=\"short\">short</span></a> by <span class=\"author\">Daisy Mowke</span> / \n",
       "      <span class=\"time\" content=\"2022-05-10T10:23:35.000Z\" itemprop=\"dateModified\">03:53 pm</span> on <span class=\"date\">10 May</span>\n",
       "</div>\n",
       "</div>"
      ]
     },
     "execution_count": 15,
     "metadata": {},
     "output_type": "execute_result"
    }
   ],
   "source": [
    "card_content"
   ]
  },
  {
   "cell_type": "code",
   "execution_count": 18,
   "id": "965842d4-ff95-4ded-a74b-182037e5dfc5",
   "metadata": {},
   "outputs": [
    {
     "data": {
      "text/plain": [
       "'2022-05-10T10:23:35.000Z'"
      ]
     },
     "execution_count": 18,
     "metadata": {},
     "output_type": "execute_result"
    }
   ],
   "source": [
    "#.attrs will give a dictionary of elements\n",
    "card_content.select_one('.time').attrs['content']"
   ]
  },
  {
   "cell_type": "code",
   "execution_count": 58,
   "id": "db6a9c69-cd80-49cc-b0e3-776b5b1ea609",
   "metadata": {},
   "outputs": [],
   "source": [
    "#function takes in a card and in order to produce a dictionary we use the return\n",
    "# category arguemnt is added so we can have the category returned later.\n",
    "def parse_news_card(card, category):\n",
    "    card = soup.select_one('div.news-card')\n",
    "    output = {}\n",
    "    output['category'] = category\n",
    "    output['title'] = card.select_one('a.clickable').text.strip()\n",
    "    \n",
    "    card_content = card.select_one('div.news-card-content')\n",
    "    output['content'] = card_content.select_one('div').text\n",
    "    output['author'] = card_content.select_one('.author').text\n",
    "    output['published'] = card_content.select_one('.time').attrs['content']\n",
    "    \n",
    "    return output"
   ]
  },
  {
   "cell_type": "code",
   "execution_count": 59,
   "id": "183f2ad9-848e-486a-afe8-eb8dd868196b",
   "metadata": {},
   "outputs": [
    {
     "ename": "TypeError",
     "evalue": "parse_news_card() missing 1 required positional argument: 'category'",
     "output_type": "error",
     "traceback": [
      "\u001b[0;31m---------------------------------------------------------------------------\u001b[0m",
      "\u001b[0;31mTypeError\u001b[0m                                 Traceback (most recent call last)",
      "\u001b[0;32m/var/folders/dy/6l70n7994h596yst0fdjbly40000gn/T/ipykernel_28390/2379302034.py\u001b[0m in \u001b[0;36m<module>\u001b[0;34m\u001b[0m\n\u001b[1;32m      1\u001b[0m \u001b[0;31m#testing function to see if it works on one card\u001b[0m\u001b[0;34m\u001b[0m\u001b[0;34m\u001b[0m\u001b[0m\n\u001b[1;32m      2\u001b[0m \u001b[0mcard\u001b[0m \u001b[0;34m=\u001b[0m \u001b[0msoup\u001b[0m\u001b[0;34m.\u001b[0m\u001b[0mselect_one\u001b[0m\u001b[0;34m(\u001b[0m\u001b[0;34m'.news-card'\u001b[0m\u001b[0;34m)\u001b[0m\u001b[0;34m\u001b[0m\u001b[0;34m\u001b[0m\u001b[0m\n\u001b[0;32m----> 3\u001b[0;31m \u001b[0mparse_news_card\u001b[0m\u001b[0;34m(\u001b[0m\u001b[0mcard\u001b[0m\u001b[0;34m)\u001b[0m\u001b[0;34m\u001b[0m\u001b[0;34m\u001b[0m\u001b[0m\n\u001b[0m",
      "\u001b[0;31mTypeError\u001b[0m: parse_news_card() missing 1 required positional argument: 'category'"
     ]
    }
   ],
   "source": [
    "#testing function to see if it works on one card\n",
    "card = soup.select_one('.news-card')\n",
    "parse_news_card(card)"
   ]
  },
  {
   "cell_type": "code",
   "execution_count": 28,
   "id": "caed9c6c-2fa3-4780-849e-d7e33afd143b",
   "metadata": {},
   "outputs": [],
   "source": [
    "articles = [parse_news_card(card) for card in soup.select('.news-card')]"
   ]
  },
  {
   "cell_type": "code",
   "execution_count": 23,
   "id": "b12da8aa-2a40-488c-b9fe-33acb79c899f",
   "metadata": {},
   "outputs": [
    {
     "name": "stdout",
     "output_type": "stream",
     "text": [
      "{'title': 'Sonu Sood asks for 50 liver transplants worth ₹12 crore as fees to promote a hospital', 'content': 'Sonu Sood, speaking to The Man magazine, recalled how he gave the money from his last few endorsements to charity. Citing an example, he said, \"A gentleman...from Aster Hospitals connected with me...and said the group would like to collaborate with me...I said that I\\'ll promote the hospitals, but give me 50 liver transplants. That\\'s almost ₹12 crore in value.\"', 'author': 'Daisy Mowke', 'published': '2022-05-10T10:23:35.000Z'}\n",
      "{'title': 'Sonu Sood asks for 50 liver transplants worth ₹12 crore as fees to promote a hospital', 'content': 'Sonu Sood, speaking to The Man magazine, recalled how he gave the money from his last few endorsements to charity. Citing an example, he said, \"A gentleman...from Aster Hospitals connected with me...and said the group would like to collaborate with me...I said that I\\'ll promote the hospitals, but give me 50 liver transplants. That\\'s almost ₹12 crore in value.\"', 'author': 'Daisy Mowke', 'published': '2022-05-10T10:23:35.000Z'}\n",
      "{'title': 'Sonu Sood asks for 50 liver transplants worth ₹12 crore as fees to promote a hospital', 'content': 'Sonu Sood, speaking to The Man magazine, recalled how he gave the money from his last few endorsements to charity. Citing an example, he said, \"A gentleman...from Aster Hospitals connected with me...and said the group would like to collaborate with me...I said that I\\'ll promote the hospitals, but give me 50 liver transplants. That\\'s almost ₹12 crore in value.\"', 'author': 'Daisy Mowke', 'published': '2022-05-10T10:23:35.000Z'}\n",
      "{'title': 'Sonu Sood asks for 50 liver transplants worth ₹12 crore as fees to promote a hospital', 'content': 'Sonu Sood, speaking to The Man magazine, recalled how he gave the money from his last few endorsements to charity. Citing an example, he said, \"A gentleman...from Aster Hospitals connected with me...and said the group would like to collaborate with me...I said that I\\'ll promote the hospitals, but give me 50 liver transplants. That\\'s almost ₹12 crore in value.\"', 'author': 'Daisy Mowke', 'published': '2022-05-10T10:23:35.000Z'}\n",
      "{'title': 'Sonu Sood asks for 50 liver transplants worth ₹12 crore as fees to promote a hospital', 'content': 'Sonu Sood, speaking to The Man magazine, recalled how he gave the money from his last few endorsements to charity. Citing an example, he said, \"A gentleman...from Aster Hospitals connected with me...and said the group would like to collaborate with me...I said that I\\'ll promote the hospitals, but give me 50 liver transplants. That\\'s almost ₹12 crore in value.\"', 'author': 'Daisy Mowke', 'published': '2022-05-10T10:23:35.000Z'}\n",
      "{'title': 'Sonu Sood asks for 50 liver transplants worth ₹12 crore as fees to promote a hospital', 'content': 'Sonu Sood, speaking to The Man magazine, recalled how he gave the money from his last few endorsements to charity. Citing an example, he said, \"A gentleman...from Aster Hospitals connected with me...and said the group would like to collaborate with me...I said that I\\'ll promote the hospitals, but give me 50 liver transplants. That\\'s almost ₹12 crore in value.\"', 'author': 'Daisy Mowke', 'published': '2022-05-10T10:23:35.000Z'}\n",
      "{'title': 'Sonu Sood asks for 50 liver transplants worth ₹12 crore as fees to promote a hospital', 'content': 'Sonu Sood, speaking to The Man magazine, recalled how he gave the money from his last few endorsements to charity. Citing an example, he said, \"A gentleman...from Aster Hospitals connected with me...and said the group would like to collaborate with me...I said that I\\'ll promote the hospitals, but give me 50 liver transplants. That\\'s almost ₹12 crore in value.\"', 'author': 'Daisy Mowke', 'published': '2022-05-10T10:23:35.000Z'}\n",
      "{'title': 'Sonu Sood asks for 50 liver transplants worth ₹12 crore as fees to promote a hospital', 'content': 'Sonu Sood, speaking to The Man magazine, recalled how he gave the money from his last few endorsements to charity. Citing an example, he said, \"A gentleman...from Aster Hospitals connected with me...and said the group would like to collaborate with me...I said that I\\'ll promote the hospitals, but give me 50 liver transplants. That\\'s almost ₹12 crore in value.\"', 'author': 'Daisy Mowke', 'published': '2022-05-10T10:23:35.000Z'}\n",
      "{'title': 'Sonu Sood asks for 50 liver transplants worth ₹12 crore as fees to promote a hospital', 'content': 'Sonu Sood, speaking to The Man magazine, recalled how he gave the money from his last few endorsements to charity. Citing an example, he said, \"A gentleman...from Aster Hospitals connected with me...and said the group would like to collaborate with me...I said that I\\'ll promote the hospitals, but give me 50 liver transplants. That\\'s almost ₹12 crore in value.\"', 'author': 'Daisy Mowke', 'published': '2022-05-10T10:23:35.000Z'}\n",
      "{'title': 'Sonu Sood asks for 50 liver transplants worth ₹12 crore as fees to promote a hospital', 'content': 'Sonu Sood, speaking to The Man magazine, recalled how he gave the money from his last few endorsements to charity. Citing an example, he said, \"A gentleman...from Aster Hospitals connected with me...and said the group would like to collaborate with me...I said that I\\'ll promote the hospitals, but give me 50 liver transplants. That\\'s almost ₹12 crore in value.\"', 'author': 'Daisy Mowke', 'published': '2022-05-10T10:23:35.000Z'}\n",
      "{'title': 'Sonu Sood asks for 50 liver transplants worth ₹12 crore as fees to promote a hospital', 'content': 'Sonu Sood, speaking to The Man magazine, recalled how he gave the money from his last few endorsements to charity. Citing an example, he said, \"A gentleman...from Aster Hospitals connected with me...and said the group would like to collaborate with me...I said that I\\'ll promote the hospitals, but give me 50 liver transplants. That\\'s almost ₹12 crore in value.\"', 'author': 'Daisy Mowke', 'published': '2022-05-10T10:23:35.000Z'}\n",
      "{'title': 'Sonu Sood asks for 50 liver transplants worth ₹12 crore as fees to promote a hospital', 'content': 'Sonu Sood, speaking to The Man magazine, recalled how he gave the money from his last few endorsements to charity. Citing an example, he said, \"A gentleman...from Aster Hospitals connected with me...and said the group would like to collaborate with me...I said that I\\'ll promote the hospitals, but give me 50 liver transplants. That\\'s almost ₹12 crore in value.\"', 'author': 'Daisy Mowke', 'published': '2022-05-10T10:23:35.000Z'}\n",
      "{'title': 'Sonu Sood asks for 50 liver transplants worth ₹12 crore as fees to promote a hospital', 'content': 'Sonu Sood, speaking to The Man magazine, recalled how he gave the money from his last few endorsements to charity. Citing an example, he said, \"A gentleman...from Aster Hospitals connected with me...and said the group would like to collaborate with me...I said that I\\'ll promote the hospitals, but give me 50 liver transplants. That\\'s almost ₹12 crore in value.\"', 'author': 'Daisy Mowke', 'published': '2022-05-10T10:23:35.000Z'}\n",
      "{'title': 'Sonu Sood asks for 50 liver transplants worth ₹12 crore as fees to promote a hospital', 'content': 'Sonu Sood, speaking to The Man magazine, recalled how he gave the money from his last few endorsements to charity. Citing an example, he said, \"A gentleman...from Aster Hospitals connected with me...and said the group would like to collaborate with me...I said that I\\'ll promote the hospitals, but give me 50 liver transplants. That\\'s almost ₹12 crore in value.\"', 'author': 'Daisy Mowke', 'published': '2022-05-10T10:23:35.000Z'}\n",
      "{'title': 'Sonu Sood asks for 50 liver transplants worth ₹12 crore as fees to promote a hospital', 'content': 'Sonu Sood, speaking to The Man magazine, recalled how he gave the money from his last few endorsements to charity. Citing an example, he said, \"A gentleman...from Aster Hospitals connected with me...and said the group would like to collaborate with me...I said that I\\'ll promote the hospitals, but give me 50 liver transplants. That\\'s almost ₹12 crore in value.\"', 'author': 'Daisy Mowke', 'published': '2022-05-10T10:23:35.000Z'}\n",
      "{'title': 'Sonu Sood asks for 50 liver transplants worth ₹12 crore as fees to promote a hospital', 'content': 'Sonu Sood, speaking to The Man magazine, recalled how he gave the money from his last few endorsements to charity. Citing an example, he said, \"A gentleman...from Aster Hospitals connected with me...and said the group would like to collaborate with me...I said that I\\'ll promote the hospitals, but give me 50 liver transplants. That\\'s almost ₹12 crore in value.\"', 'author': 'Daisy Mowke', 'published': '2022-05-10T10:23:35.000Z'}\n",
      "{'title': 'Sonu Sood asks for 50 liver transplants worth ₹12 crore as fees to promote a hospital', 'content': 'Sonu Sood, speaking to The Man magazine, recalled how he gave the money from his last few endorsements to charity. Citing an example, he said, \"A gentleman...from Aster Hospitals connected with me...and said the group would like to collaborate with me...I said that I\\'ll promote the hospitals, but give me 50 liver transplants. That\\'s almost ₹12 crore in value.\"', 'author': 'Daisy Mowke', 'published': '2022-05-10T10:23:35.000Z'}\n",
      "{'title': 'Sonu Sood asks for 50 liver transplants worth ₹12 crore as fees to promote a hospital', 'content': 'Sonu Sood, speaking to The Man magazine, recalled how he gave the money from his last few endorsements to charity. Citing an example, he said, \"A gentleman...from Aster Hospitals connected with me...and said the group would like to collaborate with me...I said that I\\'ll promote the hospitals, but give me 50 liver transplants. That\\'s almost ₹12 crore in value.\"', 'author': 'Daisy Mowke', 'published': '2022-05-10T10:23:35.000Z'}\n",
      "{'title': 'Sonu Sood asks for 50 liver transplants worth ₹12 crore as fees to promote a hospital', 'content': 'Sonu Sood, speaking to The Man magazine, recalled how he gave the money from his last few endorsements to charity. Citing an example, he said, \"A gentleman...from Aster Hospitals connected with me...and said the group would like to collaborate with me...I said that I\\'ll promote the hospitals, but give me 50 liver transplants. That\\'s almost ₹12 crore in value.\"', 'author': 'Daisy Mowke', 'published': '2022-05-10T10:23:35.000Z'}\n",
      "{'title': 'Sonu Sood asks for 50 liver transplants worth ₹12 crore as fees to promote a hospital', 'content': 'Sonu Sood, speaking to The Man magazine, recalled how he gave the money from his last few endorsements to charity. Citing an example, he said, \"A gentleman...from Aster Hospitals connected with me...and said the group would like to collaborate with me...I said that I\\'ll promote the hospitals, but give me 50 liver transplants. That\\'s almost ₹12 crore in value.\"', 'author': 'Daisy Mowke', 'published': '2022-05-10T10:23:35.000Z'}\n",
      "{'title': 'Sonu Sood asks for 50 liver transplants worth ₹12 crore as fees to promote a hospital', 'content': 'Sonu Sood, speaking to The Man magazine, recalled how he gave the money from his last few endorsements to charity. Citing an example, he said, \"A gentleman...from Aster Hospitals connected with me...and said the group would like to collaborate with me...I said that I\\'ll promote the hospitals, but give me 50 liver transplants. That\\'s almost ₹12 crore in value.\"', 'author': 'Daisy Mowke', 'published': '2022-05-10T10:23:35.000Z'}\n",
      "{'title': 'Sonu Sood asks for 50 liver transplants worth ₹12 crore as fees to promote a hospital', 'content': 'Sonu Sood, speaking to The Man magazine, recalled how he gave the money from his last few endorsements to charity. Citing an example, he said, \"A gentleman...from Aster Hospitals connected with me...and said the group would like to collaborate with me...I said that I\\'ll promote the hospitals, but give me 50 liver transplants. That\\'s almost ₹12 crore in value.\"', 'author': 'Daisy Mowke', 'published': '2022-05-10T10:23:35.000Z'}\n",
      "{'title': 'Sonu Sood asks for 50 liver transplants worth ₹12 crore as fees to promote a hospital', 'content': 'Sonu Sood, speaking to The Man magazine, recalled how he gave the money from his last few endorsements to charity. Citing an example, he said, \"A gentleman...from Aster Hospitals connected with me...and said the group would like to collaborate with me...I said that I\\'ll promote the hospitals, but give me 50 liver transplants. That\\'s almost ₹12 crore in value.\"', 'author': 'Daisy Mowke', 'published': '2022-05-10T10:23:35.000Z'}\n",
      "{'title': 'Sonu Sood asks for 50 liver transplants worth ₹12 crore as fees to promote a hospital', 'content': 'Sonu Sood, speaking to The Man magazine, recalled how he gave the money from his last few endorsements to charity. Citing an example, he said, \"A gentleman...from Aster Hospitals connected with me...and said the group would like to collaborate with me...I said that I\\'ll promote the hospitals, but give me 50 liver transplants. That\\'s almost ₹12 crore in value.\"', 'author': 'Daisy Mowke', 'published': '2022-05-10T10:23:35.000Z'}\n",
      "{'title': 'Sonu Sood asks for 50 liver transplants worth ₹12 crore as fees to promote a hospital', 'content': 'Sonu Sood, speaking to The Man magazine, recalled how he gave the money from his last few endorsements to charity. Citing an example, he said, \"A gentleman...from Aster Hospitals connected with me...and said the group would like to collaborate with me...I said that I\\'ll promote the hospitals, but give me 50 liver transplants. That\\'s almost ₹12 crore in value.\"', 'author': 'Daisy Mowke', 'published': '2022-05-10T10:23:35.000Z'}\n"
     ]
    }
   ],
   "source": [
    "# step above was added afterwards\n",
    "# need function to work on multiple cards\n",
    "for card in soup.select('.news-card'):\n",
    "    print(parse_news_card(card))"
   ]
  },
  {
   "cell_type": "code",
   "execution_count": 24,
   "id": "82ceabc9-0f9b-44ef-8df5-751a5bd9efa2",
   "metadata": {},
   "outputs": [],
   "source": [
    "# function is returning multiple dictionaries which is good\n",
    "# however this is not useful to just have print statements, list comprehension is needed\n"
   ]
  },
  {
   "cell_type": "code",
   "execution_count": 25,
   "id": "1e216cb0-6ed3-44ed-84f3-d080f4217e33",
   "metadata": {},
   "outputs": [],
   "source": [
    "# with a for loop it is a candidate for list comprehension"
   ]
  },
  {
   "cell_type": "code",
   "execution_count": 44,
   "id": "d2a46cb2-9605-4236-989c-9a0f375a7107",
   "metadata": {},
   "outputs": [],
   "source": [
    "# putting it together\n",
    "def parse_entertainment_page():\n",
    "    response = requests.get('http://www.inshorts.com/en/read/entertainment')\n",
    "    soup = BeautifulSoup(response.text)\n",
    "    articles = [parse_news_card(card) for card in soup.select('.news-card')]\n",
    "    return articles\n"
   ]
  },
  {
   "cell_type": "code",
   "execution_count": 57,
   "id": "228934ac-b11e-455a-8498-f976b7b808d1",
   "metadata": {},
   "outputs": [
    {
     "data": {
      "text/plain": [
       "[{'title': \"Ranveer's 'Jayeshbhai...' cleared for release, court orders new disclaimers to be added\",\n",
       "  'content': \"Delhi High Court has cleared Ranveer Singh-starrer 'Jayeshbhai Jordaar' for theatrical release on May 13, asking the producers to add new disclaimers. It was hearing a petition that sought removal of a scene involving pre-natal sex determination test. Earlier, the court had demanded a screening, asking producers to show them the relevant scene or face a stay on the release.\",\n",
       "  'author': 'Daisy Mowke',\n",
       "  'published': '2022-05-10T12:05:33.000Z'},\n",
       " {'title': \"Ranveer's 'Jayeshbhai...' cleared for release, court orders new disclaimers to be added\",\n",
       "  'content': \"Delhi High Court has cleared Ranveer Singh-starrer 'Jayeshbhai Jordaar' for theatrical release on May 13, asking the producers to add new disclaimers. It was hearing a petition that sought removal of a scene involving pre-natal sex determination test. Earlier, the court had demanded a screening, asking producers to show them the relevant scene or face a stay on the release.\",\n",
       "  'author': 'Daisy Mowke',\n",
       "  'published': '2022-05-10T12:05:33.000Z'},\n",
       " {'title': \"Ranveer's 'Jayeshbhai...' cleared for release, court orders new disclaimers to be added\",\n",
       "  'content': \"Delhi High Court has cleared Ranveer Singh-starrer 'Jayeshbhai Jordaar' for theatrical release on May 13, asking the producers to add new disclaimers. It was hearing a petition that sought removal of a scene involving pre-natal sex determination test. Earlier, the court had demanded a screening, asking producers to show them the relevant scene or face a stay on the release.\",\n",
       "  'author': 'Daisy Mowke',\n",
       "  'published': '2022-05-10T12:05:33.000Z'},\n",
       " {'title': \"Ranveer's 'Jayeshbhai...' cleared for release, court orders new disclaimers to be added\",\n",
       "  'content': \"Delhi High Court has cleared Ranveer Singh-starrer 'Jayeshbhai Jordaar' for theatrical release on May 13, asking the producers to add new disclaimers. It was hearing a petition that sought removal of a scene involving pre-natal sex determination test. Earlier, the court had demanded a screening, asking producers to show them the relevant scene or face a stay on the release.\",\n",
       "  'author': 'Daisy Mowke',\n",
       "  'published': '2022-05-10T12:05:33.000Z'},\n",
       " {'title': \"Ranveer's 'Jayeshbhai...' cleared for release, court orders new disclaimers to be added\",\n",
       "  'content': \"Delhi High Court has cleared Ranveer Singh-starrer 'Jayeshbhai Jordaar' for theatrical release on May 13, asking the producers to add new disclaimers. It was hearing a petition that sought removal of a scene involving pre-natal sex determination test. Earlier, the court had demanded a screening, asking producers to show them the relevant scene or face a stay on the release.\",\n",
       "  'author': 'Daisy Mowke',\n",
       "  'published': '2022-05-10T12:05:33.000Z'},\n",
       " {'title': \"Ranveer's 'Jayeshbhai...' cleared for release, court orders new disclaimers to be added\",\n",
       "  'content': \"Delhi High Court has cleared Ranveer Singh-starrer 'Jayeshbhai Jordaar' for theatrical release on May 13, asking the producers to add new disclaimers. It was hearing a petition that sought removal of a scene involving pre-natal sex determination test. Earlier, the court had demanded a screening, asking producers to show them the relevant scene or face a stay on the release.\",\n",
       "  'author': 'Daisy Mowke',\n",
       "  'published': '2022-05-10T12:05:33.000Z'},\n",
       " {'title': \"Ranveer's 'Jayeshbhai...' cleared for release, court orders new disclaimers to be added\",\n",
       "  'content': \"Delhi High Court has cleared Ranveer Singh-starrer 'Jayeshbhai Jordaar' for theatrical release on May 13, asking the producers to add new disclaimers. It was hearing a petition that sought removal of a scene involving pre-natal sex determination test. Earlier, the court had demanded a screening, asking producers to show them the relevant scene or face a stay on the release.\",\n",
       "  'author': 'Daisy Mowke',\n",
       "  'published': '2022-05-10T12:05:33.000Z'},\n",
       " {'title': \"Ranveer's 'Jayeshbhai...' cleared for release, court orders new disclaimers to be added\",\n",
       "  'content': \"Delhi High Court has cleared Ranveer Singh-starrer 'Jayeshbhai Jordaar' for theatrical release on May 13, asking the producers to add new disclaimers. It was hearing a petition that sought removal of a scene involving pre-natal sex determination test. Earlier, the court had demanded a screening, asking producers to show them the relevant scene or face a stay on the release.\",\n",
       "  'author': 'Daisy Mowke',\n",
       "  'published': '2022-05-10T12:05:33.000Z'},\n",
       " {'title': \"Ranveer's 'Jayeshbhai...' cleared for release, court orders new disclaimers to be added\",\n",
       "  'content': \"Delhi High Court has cleared Ranveer Singh-starrer 'Jayeshbhai Jordaar' for theatrical release on May 13, asking the producers to add new disclaimers. It was hearing a petition that sought removal of a scene involving pre-natal sex determination test. Earlier, the court had demanded a screening, asking producers to show them the relevant scene or face a stay on the release.\",\n",
       "  'author': 'Daisy Mowke',\n",
       "  'published': '2022-05-10T12:05:33.000Z'},\n",
       " {'title': \"Ranveer's 'Jayeshbhai...' cleared for release, court orders new disclaimers to be added\",\n",
       "  'content': \"Delhi High Court has cleared Ranveer Singh-starrer 'Jayeshbhai Jordaar' for theatrical release on May 13, asking the producers to add new disclaimers. It was hearing a petition that sought removal of a scene involving pre-natal sex determination test. Earlier, the court had demanded a screening, asking producers to show them the relevant scene or face a stay on the release.\",\n",
       "  'author': 'Daisy Mowke',\n",
       "  'published': '2022-05-10T12:05:33.000Z'},\n",
       " {'title': \"Ranveer's 'Jayeshbhai...' cleared for release, court orders new disclaimers to be added\",\n",
       "  'content': \"Delhi High Court has cleared Ranveer Singh-starrer 'Jayeshbhai Jordaar' for theatrical release on May 13, asking the producers to add new disclaimers. It was hearing a petition that sought removal of a scene involving pre-natal sex determination test. Earlier, the court had demanded a screening, asking producers to show them the relevant scene or face a stay on the release.\",\n",
       "  'author': 'Daisy Mowke',\n",
       "  'published': '2022-05-10T12:05:33.000Z'},\n",
       " {'title': \"Ranveer's 'Jayeshbhai...' cleared for release, court orders new disclaimers to be added\",\n",
       "  'content': \"Delhi High Court has cleared Ranveer Singh-starrer 'Jayeshbhai Jordaar' for theatrical release on May 13, asking the producers to add new disclaimers. It was hearing a petition that sought removal of a scene involving pre-natal sex determination test. Earlier, the court had demanded a screening, asking producers to show them the relevant scene or face a stay on the release.\",\n",
       "  'author': 'Daisy Mowke',\n",
       "  'published': '2022-05-10T12:05:33.000Z'},\n",
       " {'title': \"Ranveer's 'Jayeshbhai...' cleared for release, court orders new disclaimers to be added\",\n",
       "  'content': \"Delhi High Court has cleared Ranveer Singh-starrer 'Jayeshbhai Jordaar' for theatrical release on May 13, asking the producers to add new disclaimers. It was hearing a petition that sought removal of a scene involving pre-natal sex determination test. Earlier, the court had demanded a screening, asking producers to show them the relevant scene or face a stay on the release.\",\n",
       "  'author': 'Daisy Mowke',\n",
       "  'published': '2022-05-10T12:05:33.000Z'},\n",
       " {'title': \"Ranveer's 'Jayeshbhai...' cleared for release, court orders new disclaimers to be added\",\n",
       "  'content': \"Delhi High Court has cleared Ranveer Singh-starrer 'Jayeshbhai Jordaar' for theatrical release on May 13, asking the producers to add new disclaimers. It was hearing a petition that sought removal of a scene involving pre-natal sex determination test. Earlier, the court had demanded a screening, asking producers to show them the relevant scene or face a stay on the release.\",\n",
       "  'author': 'Daisy Mowke',\n",
       "  'published': '2022-05-10T12:05:33.000Z'},\n",
       " {'title': \"Ranveer's 'Jayeshbhai...' cleared for release, court orders new disclaimers to be added\",\n",
       "  'content': \"Delhi High Court has cleared Ranveer Singh-starrer 'Jayeshbhai Jordaar' for theatrical release on May 13, asking the producers to add new disclaimers. It was hearing a petition that sought removal of a scene involving pre-natal sex determination test. Earlier, the court had demanded a screening, asking producers to show them the relevant scene or face a stay on the release.\",\n",
       "  'author': 'Daisy Mowke',\n",
       "  'published': '2022-05-10T12:05:33.000Z'},\n",
       " {'title': \"Ranveer's 'Jayeshbhai...' cleared for release, court orders new disclaimers to be added\",\n",
       "  'content': \"Delhi High Court has cleared Ranveer Singh-starrer 'Jayeshbhai Jordaar' for theatrical release on May 13, asking the producers to add new disclaimers. It was hearing a petition that sought removal of a scene involving pre-natal sex determination test. Earlier, the court had demanded a screening, asking producers to show them the relevant scene or face a stay on the release.\",\n",
       "  'author': 'Daisy Mowke',\n",
       "  'published': '2022-05-10T12:05:33.000Z'},\n",
       " {'title': \"Ranveer's 'Jayeshbhai...' cleared for release, court orders new disclaimers to be added\",\n",
       "  'content': \"Delhi High Court has cleared Ranveer Singh-starrer 'Jayeshbhai Jordaar' for theatrical release on May 13, asking the producers to add new disclaimers. It was hearing a petition that sought removal of a scene involving pre-natal sex determination test. Earlier, the court had demanded a screening, asking producers to show them the relevant scene or face a stay on the release.\",\n",
       "  'author': 'Daisy Mowke',\n",
       "  'published': '2022-05-10T12:05:33.000Z'},\n",
       " {'title': \"Ranveer's 'Jayeshbhai...' cleared for release, court orders new disclaimers to be added\",\n",
       "  'content': \"Delhi High Court has cleared Ranveer Singh-starrer 'Jayeshbhai Jordaar' for theatrical release on May 13, asking the producers to add new disclaimers. It was hearing a petition that sought removal of a scene involving pre-natal sex determination test. Earlier, the court had demanded a screening, asking producers to show them the relevant scene or face a stay on the release.\",\n",
       "  'author': 'Daisy Mowke',\n",
       "  'published': '2022-05-10T12:05:33.000Z'},\n",
       " {'title': \"Ranveer's 'Jayeshbhai...' cleared for release, court orders new disclaimers to be added\",\n",
       "  'content': \"Delhi High Court has cleared Ranveer Singh-starrer 'Jayeshbhai Jordaar' for theatrical release on May 13, asking the producers to add new disclaimers. It was hearing a petition that sought removal of a scene involving pre-natal sex determination test. Earlier, the court had demanded a screening, asking producers to show them the relevant scene or face a stay on the release.\",\n",
       "  'author': 'Daisy Mowke',\n",
       "  'published': '2022-05-10T12:05:33.000Z'},\n",
       " {'title': \"Ranveer's 'Jayeshbhai...' cleared for release, court orders new disclaimers to be added\",\n",
       "  'content': \"Delhi High Court has cleared Ranveer Singh-starrer 'Jayeshbhai Jordaar' for theatrical release on May 13, asking the producers to add new disclaimers. It was hearing a petition that sought removal of a scene involving pre-natal sex determination test. Earlier, the court had demanded a screening, asking producers to show them the relevant scene or face a stay on the release.\",\n",
       "  'author': 'Daisy Mowke',\n",
       "  'published': '2022-05-10T12:05:33.000Z'},\n",
       " {'title': \"Ranveer's 'Jayeshbhai...' cleared for release, court orders new disclaimers to be added\",\n",
       "  'content': \"Delhi High Court has cleared Ranveer Singh-starrer 'Jayeshbhai Jordaar' for theatrical release on May 13, asking the producers to add new disclaimers. It was hearing a petition that sought removal of a scene involving pre-natal sex determination test. Earlier, the court had demanded a screening, asking producers to show them the relevant scene or face a stay on the release.\",\n",
       "  'author': 'Daisy Mowke',\n",
       "  'published': '2022-05-10T12:05:33.000Z'},\n",
       " {'title': \"Ranveer's 'Jayeshbhai...' cleared for release, court orders new disclaimers to be added\",\n",
       "  'content': \"Delhi High Court has cleared Ranveer Singh-starrer 'Jayeshbhai Jordaar' for theatrical release on May 13, asking the producers to add new disclaimers. It was hearing a petition that sought removal of a scene involving pre-natal sex determination test. Earlier, the court had demanded a screening, asking producers to show them the relevant scene or face a stay on the release.\",\n",
       "  'author': 'Daisy Mowke',\n",
       "  'published': '2022-05-10T12:05:33.000Z'},\n",
       " {'title': \"Ranveer's 'Jayeshbhai...' cleared for release, court orders new disclaimers to be added\",\n",
       "  'content': \"Delhi High Court has cleared Ranveer Singh-starrer 'Jayeshbhai Jordaar' for theatrical release on May 13, asking the producers to add new disclaimers. It was hearing a petition that sought removal of a scene involving pre-natal sex determination test. Earlier, the court had demanded a screening, asking producers to show them the relevant scene or face a stay on the release.\",\n",
       "  'author': 'Daisy Mowke',\n",
       "  'published': '2022-05-10T12:05:33.000Z'},\n",
       " {'title': \"Ranveer's 'Jayeshbhai...' cleared for release, court orders new disclaimers to be added\",\n",
       "  'content': \"Delhi High Court has cleared Ranveer Singh-starrer 'Jayeshbhai Jordaar' for theatrical release on May 13, asking the producers to add new disclaimers. It was hearing a petition that sought removal of a scene involving pre-natal sex determination test. Earlier, the court had demanded a screening, asking producers to show them the relevant scene or face a stay on the release.\",\n",
       "  'author': 'Daisy Mowke',\n",
       "  'published': '2022-05-10T12:05:33.000Z'},\n",
       " {'title': \"Ranveer's 'Jayeshbhai...' cleared for release, court orders new disclaimers to be added\",\n",
       "  'content': \"Delhi High Court has cleared Ranveer Singh-starrer 'Jayeshbhai Jordaar' for theatrical release on May 13, asking the producers to add new disclaimers. It was hearing a petition that sought removal of a scene involving pre-natal sex determination test. Earlier, the court had demanded a screening, asking producers to show them the relevant scene or face a stay on the release.\",\n",
       "  'author': 'Daisy Mowke',\n",
       "  'published': '2022-05-10T12:05:33.000Z'}]"
      ]
     },
     "execution_count": 57,
     "metadata": {},
     "output_type": "execute_result"
    }
   ],
   "source": [
    "# this function will now parse the entertainment page and return dictionaries\n",
    "# two leveles deep. this function calls another function 'parse_news_card'\n",
    "# one grabs all the news cards, the other function converts cards into dictionaries\n",
    "parse_entertainment_page()"
   ]
  },
  {
   "cell_type": "markdown",
   "id": "8c5e6e6b-4274-40f0-b773-276231164015",
   "metadata": {},
   "source": [
    "### need a function that parses more than just the entertainment page and any category\n",
    "http://www.inshorts.com/en/read/business\n",
    "\n",
    "- only difference is the last word in each url, just make it generic"
   ]
  },
  {
   "cell_type": "code",
   "execution_count": 60,
   "id": "33c690c1-f56d-4410-862f-4d0756ef3571",
   "metadata": {},
   "outputs": [],
   "source": [
    "# category to list[dict]\n",
    "# takes in a category and returns a list of dictionaries\n",
    "# every dictionary in list of dictionaries, use the .extend fucntion. takes in a list and adds every eleement from the lsit\n",
    "# .append: takes in 1 element and adds it to the list\n",
    "def parse_inshorts_page(category):\n",
    "    url = 'http://www.inshorts.com/en/read/' + category\n",
    "    response = requests.get(url)\n",
    "    soup = BeautifulSoup(response.text)\n",
    "    articles = [parse_news_card(card, category) for card in soup.select('.news-card')]\n",
    "    return articles"
   ]
  },
  {
   "cell_type": "code",
   "execution_count": 61,
   "id": "d18313e7-747c-455f-ac20-8d4b733328f4",
   "metadata": {},
   "outputs": [],
   "source": [
    "categories = ['business', 'sports', 'entertainment', 'technology']\n",
    "# main overall list of articles from every category\n",
    "articles = []\n",
    "\n",
    "for category in categories:\n",
    "    category_articles = parse_inshorts_page(category)\n",
    "    articles.extend(category_articles)"
   ]
  },
  {
   "cell_type": "code",
   "execution_count": 62,
   "id": "db8de1fb-5b25-4641-84d8-e318b4beda01",
   "metadata": {},
   "outputs": [
    {
     "data": {
      "text/plain": [
       "{'category': 'business',\n",
       " 'title': \"Ranveer's 'Jayeshbhai...' cleared for release, court orders new disclaimers to be added\",\n",
       " 'content': \"Delhi High Court has cleared Ranveer Singh-starrer 'Jayeshbhai Jordaar' for theatrical release on May 13, asking the producers to add new disclaimers. It was hearing a petition that sought removal of a scene involving pre-natal sex determination test. Earlier, the court had demanded a screening, asking producers to show them the relevant scene or face a stay on the release.\",\n",
       " 'author': 'Daisy Mowke',\n",
       " 'published': '2022-05-10T12:05:33.000Z'}"
      ]
     },
     "execution_count": 62,
     "metadata": {},
     "output_type": "execute_result"
    }
   ],
   "source": [
    "#checking to make sure the function works! it does\n",
    "articles[0]"
   ]
  },
  {
   "cell_type": "code",
   "execution_count": 63,
   "id": "741d68b4-c0e5-4174-b49d-19a206adcc22",
   "metadata": {},
   "outputs": [
    {
     "data": {
      "text/html": [
       "<div>\n",
       "<style scoped>\n",
       "    .dataframe tbody tr th:only-of-type {\n",
       "        vertical-align: middle;\n",
       "    }\n",
       "\n",
       "    .dataframe tbody tr th {\n",
       "        vertical-align: top;\n",
       "    }\n",
       "\n",
       "    .dataframe thead th {\n",
       "        text-align: right;\n",
       "    }\n",
       "</style>\n",
       "<table border=\"1\" class=\"dataframe\">\n",
       "  <thead>\n",
       "    <tr style=\"text-align: right;\">\n",
       "      <th></th>\n",
       "      <th>category</th>\n",
       "      <th>title</th>\n",
       "      <th>content</th>\n",
       "      <th>author</th>\n",
       "      <th>published</th>\n",
       "    </tr>\n",
       "  </thead>\n",
       "  <tbody>\n",
       "    <tr>\n",
       "      <th>0</th>\n",
       "      <td>business</td>\n",
       "      <td>Ranveer's 'Jayeshbhai...' cleared for release,...</td>\n",
       "      <td>Delhi High Court has cleared Ranveer Singh-sta...</td>\n",
       "      <td>Daisy Mowke</td>\n",
       "      <td>2022-05-10T12:05:33.000Z</td>\n",
       "    </tr>\n",
       "    <tr>\n",
       "      <th>1</th>\n",
       "      <td>business</td>\n",
       "      <td>Ranveer's 'Jayeshbhai...' cleared for release,...</td>\n",
       "      <td>Delhi High Court has cleared Ranveer Singh-sta...</td>\n",
       "      <td>Daisy Mowke</td>\n",
       "      <td>2022-05-10T12:05:33.000Z</td>\n",
       "    </tr>\n",
       "    <tr>\n",
       "      <th>2</th>\n",
       "      <td>business</td>\n",
       "      <td>Ranveer's 'Jayeshbhai...' cleared for release,...</td>\n",
       "      <td>Delhi High Court has cleared Ranveer Singh-sta...</td>\n",
       "      <td>Daisy Mowke</td>\n",
       "      <td>2022-05-10T12:05:33.000Z</td>\n",
       "    </tr>\n",
       "    <tr>\n",
       "      <th>3</th>\n",
       "      <td>business</td>\n",
       "      <td>Ranveer's 'Jayeshbhai...' cleared for release,...</td>\n",
       "      <td>Delhi High Court has cleared Ranveer Singh-sta...</td>\n",
       "      <td>Daisy Mowke</td>\n",
       "      <td>2022-05-10T12:05:33.000Z</td>\n",
       "    </tr>\n",
       "    <tr>\n",
       "      <th>4</th>\n",
       "      <td>business</td>\n",
       "      <td>Ranveer's 'Jayeshbhai...' cleared for release,...</td>\n",
       "      <td>Delhi High Court has cleared Ranveer Singh-sta...</td>\n",
       "      <td>Daisy Mowke</td>\n",
       "      <td>2022-05-10T12:05:33.000Z</td>\n",
       "    </tr>\n",
       "    <tr>\n",
       "      <th>...</th>\n",
       "      <td>...</td>\n",
       "      <td>...</td>\n",
       "      <td>...</td>\n",
       "      <td>...</td>\n",
       "      <td>...</td>\n",
       "    </tr>\n",
       "    <tr>\n",
       "      <th>95</th>\n",
       "      <td>technology</td>\n",
       "      <td>Ranveer's 'Jayeshbhai...' cleared for release,...</td>\n",
       "      <td>Delhi High Court has cleared Ranveer Singh-sta...</td>\n",
       "      <td>Daisy Mowke</td>\n",
       "      <td>2022-05-10T12:05:33.000Z</td>\n",
       "    </tr>\n",
       "    <tr>\n",
       "      <th>96</th>\n",
       "      <td>technology</td>\n",
       "      <td>Ranveer's 'Jayeshbhai...' cleared for release,...</td>\n",
       "      <td>Delhi High Court has cleared Ranveer Singh-sta...</td>\n",
       "      <td>Daisy Mowke</td>\n",
       "      <td>2022-05-10T12:05:33.000Z</td>\n",
       "    </tr>\n",
       "    <tr>\n",
       "      <th>97</th>\n",
       "      <td>technology</td>\n",
       "      <td>Ranveer's 'Jayeshbhai...' cleared for release,...</td>\n",
       "      <td>Delhi High Court has cleared Ranveer Singh-sta...</td>\n",
       "      <td>Daisy Mowke</td>\n",
       "      <td>2022-05-10T12:05:33.000Z</td>\n",
       "    </tr>\n",
       "    <tr>\n",
       "      <th>98</th>\n",
       "      <td>technology</td>\n",
       "      <td>Ranveer's 'Jayeshbhai...' cleared for release,...</td>\n",
       "      <td>Delhi High Court has cleared Ranveer Singh-sta...</td>\n",
       "      <td>Daisy Mowke</td>\n",
       "      <td>2022-05-10T12:05:33.000Z</td>\n",
       "    </tr>\n",
       "    <tr>\n",
       "      <th>99</th>\n",
       "      <td>technology</td>\n",
       "      <td>Ranveer's 'Jayeshbhai...' cleared for release,...</td>\n",
       "      <td>Delhi High Court has cleared Ranveer Singh-sta...</td>\n",
       "      <td>Daisy Mowke</td>\n",
       "      <td>2022-05-10T12:05:33.000Z</td>\n",
       "    </tr>\n",
       "  </tbody>\n",
       "</table>\n",
       "<p>100 rows × 5 columns</p>\n",
       "</div>"
      ],
      "text/plain": [
       "      category                                              title  \\\n",
       "0     business  Ranveer's 'Jayeshbhai...' cleared for release,...   \n",
       "1     business  Ranveer's 'Jayeshbhai...' cleared for release,...   \n",
       "2     business  Ranveer's 'Jayeshbhai...' cleared for release,...   \n",
       "3     business  Ranveer's 'Jayeshbhai...' cleared for release,...   \n",
       "4     business  Ranveer's 'Jayeshbhai...' cleared for release,...   \n",
       "..         ...                                                ...   \n",
       "95  technology  Ranveer's 'Jayeshbhai...' cleared for release,...   \n",
       "96  technology  Ranveer's 'Jayeshbhai...' cleared for release,...   \n",
       "97  technology  Ranveer's 'Jayeshbhai...' cleared for release,...   \n",
       "98  technology  Ranveer's 'Jayeshbhai...' cleared for release,...   \n",
       "99  technology  Ranveer's 'Jayeshbhai...' cleared for release,...   \n",
       "\n",
       "                                              content       author  \\\n",
       "0   Delhi High Court has cleared Ranveer Singh-sta...  Daisy Mowke   \n",
       "1   Delhi High Court has cleared Ranveer Singh-sta...  Daisy Mowke   \n",
       "2   Delhi High Court has cleared Ranveer Singh-sta...  Daisy Mowke   \n",
       "3   Delhi High Court has cleared Ranveer Singh-sta...  Daisy Mowke   \n",
       "4   Delhi High Court has cleared Ranveer Singh-sta...  Daisy Mowke   \n",
       "..                                                ...          ...   \n",
       "95  Delhi High Court has cleared Ranveer Singh-sta...  Daisy Mowke   \n",
       "96  Delhi High Court has cleared Ranveer Singh-sta...  Daisy Mowke   \n",
       "97  Delhi High Court has cleared Ranveer Singh-sta...  Daisy Mowke   \n",
       "98  Delhi High Court has cleared Ranveer Singh-sta...  Daisy Mowke   \n",
       "99  Delhi High Court has cleared Ranveer Singh-sta...  Daisy Mowke   \n",
       "\n",
       "                   published  \n",
       "0   2022-05-10T12:05:33.000Z  \n",
       "1   2022-05-10T12:05:33.000Z  \n",
       "2   2022-05-10T12:05:33.000Z  \n",
       "3   2022-05-10T12:05:33.000Z  \n",
       "4   2022-05-10T12:05:33.000Z  \n",
       "..                       ...  \n",
       "95  2022-05-10T12:05:33.000Z  \n",
       "96  2022-05-10T12:05:33.000Z  \n",
       "97  2022-05-10T12:05:33.000Z  \n",
       "98  2022-05-10T12:05:33.000Z  \n",
       "99  2022-05-10T12:05:33.000Z  \n",
       "\n",
       "[100 rows x 5 columns]"
      ]
     },
     "execution_count": 63,
     "metadata": {},
     "output_type": "execute_result"
    }
   ],
   "source": [
    "# lets make it all a dataframe now\n",
    "# missing a piece of information though, which category each article belongs to\n",
    "# each row is one dictionary, dictionary doesnt have a category key so it needs to be added\n",
    "# going back to the parse_news_function and inshorts modifying\n",
    "# added it in function definition, output dictionary, and inshorts article\n",
    "pd.DataFrame(articles)\n"
   ]
  },
  {
   "cell_type": "markdown",
   "id": "466e16b9-0af2-4ee9-9102-4a23335353c5",
   "metadata": {},
   "source": [
    "## turn this all into one function"
   ]
  },
  {
   "cell_type": "code",
   "execution_count": 64,
   "id": "afeb6dd5-100d-45e3-81b2-af7a76120f60",
   "metadata": {},
   "outputs": [],
   "source": [
    "def get_news_articles():\n",
    "    categories = ['business', 'sports', 'entertainment', 'technology']\n",
    "# main overall list of articles from every category\n",
    "    articles = []\n",
    "\n",
    "    for category in categories:\n",
    "        category_articles = parse_inshorts_page(category)\n",
    "        articles.extend(category_articles)\n",
    "    \n",
    "    return pd.DataFrame(articles)"
   ]
  },
  {
   "cell_type": "code",
   "execution_count": 65,
   "id": "7e559f8a-242e-4603-9ce7-f00d97dab5d8",
   "metadata": {},
   "outputs": [
    {
     "data": {
      "text/html": [
       "<div>\n",
       "<style scoped>\n",
       "    .dataframe tbody tr th:only-of-type {\n",
       "        vertical-align: middle;\n",
       "    }\n",
       "\n",
       "    .dataframe tbody tr th {\n",
       "        vertical-align: top;\n",
       "    }\n",
       "\n",
       "    .dataframe thead th {\n",
       "        text-align: right;\n",
       "    }\n",
       "</style>\n",
       "<table border=\"1\" class=\"dataframe\">\n",
       "  <thead>\n",
       "    <tr style=\"text-align: right;\">\n",
       "      <th></th>\n",
       "      <th>category</th>\n",
       "      <th>title</th>\n",
       "      <th>content</th>\n",
       "      <th>author</th>\n",
       "      <th>published</th>\n",
       "    </tr>\n",
       "  </thead>\n",
       "  <tbody>\n",
       "    <tr>\n",
       "      <th>0</th>\n",
       "      <td>business</td>\n",
       "      <td>Ranveer's 'Jayeshbhai...' cleared for release,...</td>\n",
       "      <td>Delhi High Court has cleared Ranveer Singh-sta...</td>\n",
       "      <td>Daisy Mowke</td>\n",
       "      <td>2022-05-10T12:05:33.000Z</td>\n",
       "    </tr>\n",
       "    <tr>\n",
       "      <th>1</th>\n",
       "      <td>business</td>\n",
       "      <td>Ranveer's 'Jayeshbhai...' cleared for release,...</td>\n",
       "      <td>Delhi High Court has cleared Ranveer Singh-sta...</td>\n",
       "      <td>Daisy Mowke</td>\n",
       "      <td>2022-05-10T12:05:33.000Z</td>\n",
       "    </tr>\n",
       "    <tr>\n",
       "      <th>2</th>\n",
       "      <td>business</td>\n",
       "      <td>Ranveer's 'Jayeshbhai...' cleared for release,...</td>\n",
       "      <td>Delhi High Court has cleared Ranveer Singh-sta...</td>\n",
       "      <td>Daisy Mowke</td>\n",
       "      <td>2022-05-10T12:05:33.000Z</td>\n",
       "    </tr>\n",
       "    <tr>\n",
       "      <th>3</th>\n",
       "      <td>business</td>\n",
       "      <td>Ranveer's 'Jayeshbhai...' cleared for release,...</td>\n",
       "      <td>Delhi High Court has cleared Ranveer Singh-sta...</td>\n",
       "      <td>Daisy Mowke</td>\n",
       "      <td>2022-05-10T12:05:33.000Z</td>\n",
       "    </tr>\n",
       "    <tr>\n",
       "      <th>4</th>\n",
       "      <td>business</td>\n",
       "      <td>Ranveer's 'Jayeshbhai...' cleared for release,...</td>\n",
       "      <td>Delhi High Court has cleared Ranveer Singh-sta...</td>\n",
       "      <td>Daisy Mowke</td>\n",
       "      <td>2022-05-10T12:05:33.000Z</td>\n",
       "    </tr>\n",
       "  </tbody>\n",
       "</table>\n",
       "</div>"
      ],
      "text/plain": [
       "   category                                              title  \\\n",
       "0  business  Ranveer's 'Jayeshbhai...' cleared for release,...   \n",
       "1  business  Ranveer's 'Jayeshbhai...' cleared for release,...   \n",
       "2  business  Ranveer's 'Jayeshbhai...' cleared for release,...   \n",
       "3  business  Ranveer's 'Jayeshbhai...' cleared for release,...   \n",
       "4  business  Ranveer's 'Jayeshbhai...' cleared for release,...   \n",
       "\n",
       "                                             content       author  \\\n",
       "0  Delhi High Court has cleared Ranveer Singh-sta...  Daisy Mowke   \n",
       "1  Delhi High Court has cleared Ranveer Singh-sta...  Daisy Mowke   \n",
       "2  Delhi High Court has cleared Ranveer Singh-sta...  Daisy Mowke   \n",
       "3  Delhi High Court has cleared Ranveer Singh-sta...  Daisy Mowke   \n",
       "4  Delhi High Court has cleared Ranveer Singh-sta...  Daisy Mowke   \n",
       "\n",
       "                  published  \n",
       "0  2022-05-10T12:05:33.000Z  \n",
       "1  2022-05-10T12:05:33.000Z  \n",
       "2  2022-05-10T12:05:33.000Z  \n",
       "3  2022-05-10T12:05:33.000Z  \n",
       "4  2022-05-10T12:05:33.000Z  "
      ]
     },
     "execution_count": 65,
     "metadata": {},
     "output_type": "execute_result"
    }
   ],
   "source": [
    "df = get_news_articles()\n",
    "df.head()"
   ]
  },
  {
   "cell_type": "code",
   "execution_count": null,
   "id": "9d4d4cd9-6181-4a32-911c-7b19692f6cd1",
   "metadata": {},
   "outputs": [],
   "source": []
  }
 ],
 "metadata": {
  "kernelspec": {
   "display_name": "Python 3 (ipykernel)",
   "language": "python",
   "name": "python3"
  },
  "language_info": {
   "codemirror_mode": {
    "name": "ipython",
    "version": 3
   },
   "file_extension": ".py",
   "mimetype": "text/x-python",
   "name": "python",
   "nbconvert_exporter": "python",
   "pygments_lexer": "ipython3",
   "version": "3.9.7"
  }
 },
 "nbformat": 4,
 "nbformat_minor": 5
}
